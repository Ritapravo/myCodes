{
 "cells": [
  {
   "cell_type": "code",
   "execution_count": null,
   "metadata": {},
   "outputs": [
    {
     "name": "stdout",
     "output_type": "stream",
     "text": [
      "4\n",
      "2 24\n",
      "4 12\n",
      "NO \n",
      "2 10\n",
      "2 56\n",
      "YES 0 1 \n"
     ]
    }
   ],
   "source": [
    "for _ in range(int(input())):\n",
    "    n,p = map(int, input().split())\n",
    "    li = [int(i) for i in input().split()]\n",
    "    x = False\n",
    "    k = 0\n",
    "    for i in range(n):\n",
    "        if(p%li[i] != 0):\n",
    "            k=i\n",
    "            x = True\n",
    "    if(x==False):\n",
    "        y = False\n",
    "        for i in range(1,n):\n",
    "            if(li[i]%li[i-1]!=0):\n",
    "                k = i\n",
    "                y = True\n",
    "        if(y == False):\n",
    "            print(\"NO\",end =\" \")\n",
    "        else:\n",
    "            m = li[k]//li[k-1] +1\n",
    "            print(\"YES\",end = \" \")\n",
    "            for i in range(n):\n",
    "                if(i==k-1):\n",
    "                    print(m, end = \" \")\n",
    "                elif(i==k):\n",
    "                    print(p//li[i] -1, end = \" \")\n",
    "                else:\n",
    "                    print(0,end = \" \")\n",
    "        print(\"\")\n",
    "            \n",
    "    else:\n",
    "        print(\"YES\",end = \" \")\n",
    "        m = p//li[k] +1\n",
    "        for i in range(n):\n",
    "            if(i==k):\n",
    "                print(m,end = \" \")\n",
    "            else:\n",
    "                print(0, end = \" \")\n",
    "        print(\"\")\n",
    "                "
   ]
  },
  {
   "cell_type": "code",
   "execution_count": null,
   "metadata": {},
   "outputs": [],
   "source": []
  }
 ],
 "metadata": {
  "kernelspec": {
   "display_name": "Python 3",
   "language": "python",
   "name": "python3"
  },
  "language_info": {
   "codemirror_mode": {
    "name": "ipython",
    "version": 3
   },
   "file_extension": ".py",
   "mimetype": "text/x-python",
   "name": "python",
   "nbconvert_exporter": "python",
   "pygments_lexer": "ipython3",
   "version": "3.7.2"
  }
 },
 "nbformat": 4,
 "nbformat_minor": 4
}
