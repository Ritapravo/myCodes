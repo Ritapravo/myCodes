{
 "cells": [
  {
   "cell_type": "code",
   "execution_count": 1,
   "metadata": {},
   "outputs": [],
   "source": [
    "def modInverse(a, m) : \n",
    "      \n",
    "    g = gcd(a, m) \n",
    "      \n",
    "    if (g != 1) : \n",
    "        return -1\n",
    "          \n",
    "    else :\n",
    "        return power(a, m - 2, m)\n",
    "        \n",
    "\n",
    "def power(x, y, m) : \n",
    "      \n",
    "    if (y == 0) : \n",
    "        return 1\n",
    "          \n",
    "    p = power(x, y // 2, m) % m \n",
    "    p = (p * p) % m \n",
    "  \n",
    "    if(y % 2 == 0) : \n",
    "        return p  \n",
    "    else :  \n",
    "        return ((x * p) % m) \n",
    "    \n",
    "def gcd(a, b) : \n",
    "    if (a == 0) : \n",
    "        return b \n",
    "          \n",
    "    return gcd(b % a, a) "
   ]
  },
  {
   "cell_type": "code",
   "execution_count": 7,
   "metadata": {},
   "outputs": [
    {
     "data": {
      "text/plain": [
       "866666673"
      ]
     },
     "execution_count": 7,
     "metadata": {},
     "output_type": "execute_result"
    }
   ],
   "source": [
    "(4*modInverse(15,1000000007))%1000000007"
   ]
  },
  {
   "cell_type": "code",
   "execution_count": 3,
   "metadata": {},
   "outputs": [
    {
     "data": {
      "text/plain": [
       "1000000007"
      ]
     },
     "execution_count": 3,
     "metadata": {},
     "output_type": "execute_result"
    }
   ],
   "source": [
    "pow(10,9)+7"
   ]
  },
  {
   "cell_type": "code",
   "execution_count": 11,
   "metadata": {},
   "outputs": [
    {
     "name": "stdout",
     "output_type": "stream",
     "text": [
      "1 2 3 4 \n",
      "1 2 3 \n",
      "1 2 \n",
      "1 \n"
     ]
    }
   ],
   "source": [
    "a = [1,2,3,4]\n",
    "n = 4\n",
    "for  i in range(n):\n",
    "    for j in range(n-i):\n",
    "        print(a[j],end = \" \")\n",
    "    print(\"\")"
   ]
  },
  {
   "cell_type": "code",
   "execution_count": 38,
   "metadata": {},
   "outputs": [
    {
     "name": "stdout",
     "output_type": "stream",
     "text": [
      "5\n"
     ]
    }
   ],
   "source": [
    "from bisect import bisect as upper_bound \n",
    "from collections import defaultdict  \n",
    "maxLen=30\n",
    "  \n",
    "# Function to find required value \n",
    "def findCnt(arr, n, k): \n",
    "  \n",
    "    # Variable to store final answer \n",
    "    ans = 0\n",
    "  \n",
    "    # Loop to find prefix-sum \n",
    "    for i in range(1,n): \n",
    "        arr[i] += arr[i - 1] \n",
    "        if (arr[i] > k or arr[i] < -1 * k): \n",
    "            ans+=1\n",
    "  \n",
    "    if (arr[0] > k or arr[0] < -1 * k): \n",
    "        ans+=1\n",
    "  \n",
    "    # Sorting prefix-sum array \n",
    "    arr=sorted(arr) \n",
    "  \n",
    "    # Loop to find upper_bound \n",
    "    # for each element \n",
    "    for i in range(n): \n",
    "        ans += n - upper_bound(arr,arr[i] + k) \n",
    "  \n",
    "    # Returning final answer \n",
    "    return ans \n",
    "\n",
    "def findSubarraySum(arr, n, Sum):  \n",
    "   \n",
    "    # Dictionary to store number of subarrays  \n",
    "    # starting from index zero having   \n",
    "    # particular value of sum.  \n",
    "    prevSum = defaultdict(lambda : 0) \n",
    "    \n",
    "    res = 0 \n",
    "    \n",
    "    # Sum of elements so far.  \n",
    "    currsum = 0 \n",
    "    \n",
    "    for i in range(0, n):   \n",
    "    \n",
    "        # Add current element to sum so far.  \n",
    "        currsum += arr[i]  \n",
    "    \n",
    "        # If currsum is equal to desired sum,  \n",
    "        # then a new subarray is found. So  \n",
    "        # increase count of subarrays.  \n",
    "        if currsum == Sum:   \n",
    "            res += 1         \n",
    "    \n",
    "        # currsum exceeds given sum by currsum  - sum. \n",
    "        # Find number of subarrays having   \n",
    "        # this sum and exclude those subarrays  \n",
    "        # from currsum by increasing count by   \n",
    "        # same amount.  \n",
    "        if (currsum - Sum) in prevSum: \n",
    "            res += prevSum[currsum - Sum]  \n",
    "            \n",
    "    \n",
    "        # Add currsum value to count of   \n",
    "        # different values of sum.  \n",
    "        prevSum[currsum] += 1 \n",
    "       \n",
    "    return res\n",
    "# Driver code \n",
    "  \n",
    "arr = [-1, -1, -1, 1, 1] \n",
    "arr2 = []\n",
    "for i in arr:\n",
    "    arr2.append(-i)\n",
    "n = len(arr) \n",
    "k = 1\n",
    "Sum = 0  \n",
    "# Function to find required value \n",
    "print(findCnt(arr2, n, k)) "
   ]
  },
  {
   "cell_type": "code",
   "execution_count": 34,
   "metadata": {},
   "outputs": [
    {
     "data": {
      "text/plain": [
       "2"
      ]
     },
     "execution_count": 34,
     "metadata": {},
     "output_type": "execute_result"
    }
   ],
   "source": [
    "findSubarraySum(arr2, 5, 0)"
   ]
  },
  {
   "cell_type": "code",
   "execution_count": 32,
   "metadata": {},
   "outputs": [
    {
     "data": {
      "text/plain": [
       "[1, 1, 1, -1, -1]"
      ]
     },
     "execution_count": 32,
     "metadata": {},
     "output_type": "execute_result"
    }
   ],
   "source": [
    "arr2"
   ]
  },
  {
   "cell_type": "code",
   "execution_count": null,
   "metadata": {},
   "outputs": [],
   "source": []
  }
 ],
 "metadata": {
  "kernelspec": {
   "display_name": "Python 3",
   "language": "python",
   "name": "python3"
  },
  "language_info": {
   "codemirror_mode": {
    "name": "ipython",
    "version": 3
   },
   "file_extension": ".py",
   "mimetype": "text/x-python",
   "name": "python",
   "nbconvert_exporter": "python",
   "pygments_lexer": "ipython3",
   "version": "3.7.2"
  }
 },
 "nbformat": 4,
 "nbformat_minor": 4
}
