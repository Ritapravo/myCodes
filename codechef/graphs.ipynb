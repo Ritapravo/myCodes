{
 "cells": [
  {
   "cell_type": "code",
   "execution_count": 1,
   "metadata": {},
   "outputs": [
    {
     "name": "stdout",
     "output_type": "stream",
     "text": [
      "Following are connected components\n",
      "[[0, 1], [2, 3, 4]]\n"
     ]
    }
   ],
   "source": [
    "class Graph: \n",
    "      \n",
    "    # init function to declare class variables \n",
    "    def __init__(self,V): \n",
    "        self.V = V \n",
    "        self.adj = [[] for i in range(V)] \n",
    "  \n",
    "    def DFSUtil(self, temp, v, visited): \n",
    "  \n",
    "        # Mark the current vertex as visited \n",
    "        visited[v] = True\n",
    "  \n",
    "        # Store the vertex to list \n",
    "        temp.append(v) \n",
    "  \n",
    "        # Repeat for all vertices adjacent \n",
    "        # to this vertex v \n",
    "        for i in self.adj[v]: \n",
    "            if visited[i] == False: \n",
    "                  \n",
    "                # Update the list \n",
    "                temp = self.DFSUtil(temp, i, visited) \n",
    "        return temp \n",
    "  \n",
    "    # method to add an undirected edge \n",
    "    def addEdge(self, v, w): \n",
    "        self.adj[v].append(w) \n",
    "        self.adj[w].append(v) \n",
    "  \n",
    "    # Method to retrieve connected components \n",
    "    # in an undirected graph \n",
    "    def connectedComponents(self): \n",
    "        visited = [] \n",
    "        cc = [] \n",
    "        for i in range(self.V): \n",
    "            visited.append(False) \n",
    "        for v in range(self.V): \n",
    "            if visited[v] == False: \n",
    "                temp = [] \n",
    "                cc.append(self.DFSUtil(temp, v, visited)) \n",
    "        return cc \n",
    "  \n",
    "# Driver Code \n",
    "if __name__==\"__main__\": \n",
    "      \n",
    "    # Create a graph given in the above diagram \n",
    "    # 5 vertices numbered from 0 to 4 \n",
    "    g = Graph(5); \n",
    "    g.addEdge(1, 0) \n",
    "    g.addEdge(2, 3) \n",
    "    g.addEdge(3, 4) \n",
    "    cc = g.connectedComponents() \n",
    "    print(\"Following are connected components\") \n",
    "    print(cc) "
   ]
  },
  {
   "cell_type": "code",
   "execution_count": 12,
   "metadata": {},
   "outputs": [
    {
     "name": "stdout",
     "output_type": "stream",
     "text": [
      "3\n"
     ]
    }
   ],
   "source": [
    "def maxContainers(scenarios):\n",
    "    li = scenarios.split()\n",
    "    n = int(li[0])\n",
    "    cost = int(li[1])\n",
    "    m = int(li[2])\n",
    "    x = n//cost\n",
    "    tmp = x\n",
    "    total = x\n",
    "    while(tmp>=m):\n",
    "        total += tmp//m\n",
    "        tmp = tmp//m +tmp%m\n",
    "        \n",
    "    return total\n",
    "scenarios = \"12 4 4\"\n",
    "print(maxContainers(scenarios))"
   ]
  },
  {
   "cell_type": "code",
   "execution_count": 13,
   "metadata": {},
   "outputs": [],
   "source": [
    "str  = \"10 2 5\""
   ]
  },
  {
   "cell_type": "code",
   "execution_count": 14,
   "metadata": {},
   "outputs": [],
   "source": [
    "li = str.split()"
   ]
  },
  {
   "cell_type": "code",
   "execution_count": 15,
   "metadata": {},
   "outputs": [
    {
     "data": {
      "text/plain": [
       "['10', '2', '5']"
      ]
     },
     "execution_count": 15,
     "metadata": {},
     "output_type": "execute_result"
    }
   ],
   "source": [
    "li"
   ]
  },
  {
   "cell_type": "code",
   "execution_count": 16,
   "metadata": {},
   "outputs": [
    {
     "name": "stdout",
     "output_type": "stream",
     "text": [
      "['ab', 'aba', 'abb']\n"
     ]
    }
   ],
   "source": [
    "li = ['aba', 'abb', 'ab']\n",
    "li.sort()\n",
    "print(li)"
   ]
  },
  {
   "cell_type": "code",
   "execution_count": 21,
   "metadata": {},
   "outputs": [],
   "source": [
    "def closestStraightCity(c,x,y,q):\n",
    "    n = len(c)\n",
    "    city = dict()\n",
    "    for i in range(n):\n",
    "        city[c[i]] = i\n",
    "    X = dict()\n",
    "    for i in range(n):\n",
    "        if x[i] not in X:\n",
    "            X[x[i]]=[y[i]]\n",
    "        else:\n",
    "            X[x[i]].append(y[i])\n",
    "    Y = dict()\n",
    "    for i in range(n):\n",
    "        if y[i] not in X:\n",
    "            Y[y[i]]=[x[i]]\n",
    "        else:\n",
    "            Y[y[i]].append(x[i])\n",
    "    for ci in q:\n",
    "        index = city[ci]\n",
    "        xc = x[index]\n",
    "        yc = y[index]\n",
    "        minx = 0\n",
    "        cl = []\n",
    "        ind1 = -100\n",
    "        for k1 in range(len(X[xc])):\n",
    "            tl = X[xc][k1]\n",
    "            if(tl!=xc):\n",
    "                if(xc-tl>minx):\n",
    "                    minx = xc-tl\n",
    "                    ind1 = tl\n",
    "        if(ind1!=-100):\n",
    "            ind1 = y.index(ind1)\n",
    "            cl.append(c[ind1])\n",
    "        for k1 in range(len(X[xc])):\n",
    "            tl = X[xc][k1]\n",
    "            if(tl!=xc):\n",
    "                if(tl-xc>minx):\n",
    "                    min = tl-xc\n",
    "                    ind1 = tl\n",
    "        if(ind1!=-100):\n",
    "            ind1 = y.index(ind1)\n",
    "            cl.append(c[ind1])\n",
    "        print(cl)\n",
    "                \n",
    "    print(city)\n",
    "    print(X)\n",
    "    print(Y)\n",
    "    "
   ]
  },
  {
   "cell_type": "code",
   "execution_count": 22,
   "metadata": {},
   "outputs": [
    {
     "ename": "ValueError",
     "evalue": "0 is not in list",
     "output_type": "error",
     "traceback": [
      "\u001b[1;31m---------------------------------------------------------------------------\u001b[0m",
      "\u001b[1;31mValueError\u001b[0m                                Traceback (most recent call last)",
      "\u001b[1;32m<ipython-input-22-366d78bd8ea2>\u001b[0m in \u001b[0;36m<module>\u001b[1;34m\u001b[0m\n\u001b[0;32m      3\u001b[0m \u001b[0my\u001b[0m \u001b[1;33m=\u001b[0m \u001b[1;33m[\u001b[0m\u001b[1;36m1\u001b[0m\u001b[1;33m,\u001b[0m \u001b[1;36m10\u001b[0m\u001b[1;33m,\u001b[0m\u001b[1;36m20\u001b[0m\u001b[1;33m]\u001b[0m\u001b[1;33m\u001b[0m\u001b[1;33m\u001b[0m\u001b[0m\n\u001b[0;32m      4\u001b[0m \u001b[0mq\u001b[0m \u001b[1;33m=\u001b[0m \u001b[1;33m[\u001b[0m\u001b[1;34m\"fastcity\"\u001b[0m\u001b[1;33m,\u001b[0m\u001b[1;34m\"bigbanana\"\u001b[0m\u001b[1;33m,\u001b[0m\u001b[1;34m\"xyz\"\u001b[0m\u001b[1;33m]\u001b[0m\u001b[1;33m\u001b[0m\u001b[1;33m\u001b[0m\u001b[0m\n\u001b[1;32m----> 5\u001b[1;33m \u001b[0mclosestStraightCity\u001b[0m\u001b[1;33m(\u001b[0m\u001b[0mc\u001b[0m\u001b[1;33m,\u001b[0m\u001b[0mx\u001b[0m\u001b[1;33m,\u001b[0m\u001b[0my\u001b[0m\u001b[1;33m,\u001b[0m\u001b[0mq\u001b[0m\u001b[1;33m)\u001b[0m\u001b[1;33m\u001b[0m\u001b[1;33m\u001b[0m\u001b[0m\n\u001b[0m",
      "\u001b[1;32m<ipython-input-21-46d989f52388>\u001b[0m in \u001b[0;36mclosestStraightCity\u001b[1;34m(c, x, y, q)\u001b[0m\n\u001b[0;32m     39\u001b[0m                     \u001b[0mind1\u001b[0m \u001b[1;33m=\u001b[0m \u001b[0mtl\u001b[0m\u001b[1;33m\u001b[0m\u001b[1;33m\u001b[0m\u001b[0m\n\u001b[0;32m     40\u001b[0m         \u001b[1;32mif\u001b[0m\u001b[1;33m(\u001b[0m\u001b[0mind1\u001b[0m\u001b[1;33m!=\u001b[0m\u001b[1;33m-\u001b[0m\u001b[1;36m100\u001b[0m\u001b[1;33m)\u001b[0m\u001b[1;33m:\u001b[0m\u001b[1;33m\u001b[0m\u001b[1;33m\u001b[0m\u001b[0m\n\u001b[1;32m---> 41\u001b[1;33m             \u001b[0mind1\u001b[0m \u001b[1;33m=\u001b[0m \u001b[0my\u001b[0m\u001b[1;33m.\u001b[0m\u001b[0mindex\u001b[0m\u001b[1;33m(\u001b[0m\u001b[0mind1\u001b[0m\u001b[1;33m)\u001b[0m\u001b[1;33m\u001b[0m\u001b[1;33m\u001b[0m\u001b[0m\n\u001b[0m\u001b[0;32m     42\u001b[0m             \u001b[0mcl\u001b[0m\u001b[1;33m.\u001b[0m\u001b[0mappend\u001b[0m\u001b[1;33m(\u001b[0m\u001b[0mc\u001b[0m\u001b[1;33m[\u001b[0m\u001b[0mind1\u001b[0m\u001b[1;33m]\u001b[0m\u001b[1;33m)\u001b[0m\u001b[1;33m\u001b[0m\u001b[1;33m\u001b[0m\u001b[0m\n\u001b[0;32m     43\u001b[0m         \u001b[0mprint\u001b[0m\u001b[1;33m(\u001b[0m\u001b[0mcl\u001b[0m\u001b[1;33m)\u001b[0m\u001b[1;33m\u001b[0m\u001b[1;33m\u001b[0m\u001b[0m\n",
      "\u001b[1;31mValueError\u001b[0m: 0 is not in list"
     ]
    }
   ],
   "source": [
    "c = [\"fastcity\",\"bigbanana\",\"xyz\"]\n",
    "x = [23,23,23]\n",
    "y = [1, 10,20]\n",
    "q = [\"fastcity\",\"bigbanana\",\"xyz\"]\n",
    "closestStraightCity(c,x,y,q)"
   ]
  },
  {
   "cell_type": "code",
   "execution_count": null,
   "metadata": {},
   "outputs": [],
   "source": []
  }
 ],
 "metadata": {
  "kernelspec": {
   "display_name": "Python 3",
   "language": "python",
   "name": "python3"
  },
  "language_info": {
   "codemirror_mode": {
    "name": "ipython",
    "version": 3
   },
   "file_extension": ".py",
   "mimetype": "text/x-python",
   "name": "python",
   "nbconvert_exporter": "python",
   "pygments_lexer": "ipython3",
   "version": "3.7.2"
  }
 },
 "nbformat": 4,
 "nbformat_minor": 4
}
