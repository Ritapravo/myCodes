{
 "cells": [
  {
   "cell_type": "code",
   "execution_count": 48,
   "metadata": {},
   "outputs": [],
   "source": [
    "import sys\n",
    "sys.setrecursionlimit(100000000)\n",
    "\n",
    "def mi(a, m) : \n",
    "      \n",
    "    g = gcd(a, m) \n",
    "      \n",
    "    if (g != 1) : \n",
    "        return -1\n",
    "          \n",
    "    else :\n",
    "        return pow(a, m - 2, m)\n",
    "        \n",
    "def gcd(a, b) : \n",
    "    if (a == 0) : \n",
    "        return b \n",
    "          \n",
    "    return gcd(b % a, a)\n",
    "\n",
    "def merge(arr,l,m,r):\n",
    "    inv = 0\n",
    "    n1 = m-l+1\n",
    "    n2 = r-m\n",
    "    L = []\n",
    "    R = []\n",
    "    for i in range(n1):\n",
    "        L.append(arr[l+i])\n",
    "    for j in range(n2):\n",
    "        R.append(arr[m+j+1])\n",
    "    i = 0\n",
    "    j = 0\n",
    "    k = l\n",
    "    while(i<n1 and j<n2):\n",
    "        if(L[i] <= R[j]):\n",
    "            arr[k] = L[i]\n",
    "            i += 1\n",
    "        else:\n",
    "            arr[k] = R[j]\n",
    "            j += 1\n",
    "            inv += m-(l+i)+1\n",
    "        k += 1\n",
    "    while(i<n1):\n",
    "        arr[k] = L[i]\n",
    "        i = i+1\n",
    "        k = k+1\n",
    "    while(j<n2):\n",
    "        arr[k] = R[j]\n",
    "        j += 1\n",
    "        k += 1\n",
    "    return inv\n",
    "def ms(arr,l,r):\n",
    "    inv = 0\n",
    "    if(l<r):\n",
    "        m = l + (r-l)//2\n",
    "        inv += ms(arr,l,m)\n",
    "        inv += ms(arr,m+1,r)\n",
    "        inv += merge(arr,l,m,r)\n",
    "    return inv"
   ]
  },
  {
   "cell_type": "code",
   "execution_count": 46,
   "metadata": {},
   "outputs": [
    {
     "data": {
      "text/plain": [
       "6"
      ]
     },
     "execution_count": 46,
     "metadata": {},
     "output_type": "execute_result"
    }
   ],
   "source": [
    "arr = [1,2,3,3,2,1]\n",
    "n = len(arr)\n",
    "ms(arr,0,n-1)"
   ]
  },
  {
   "cell_type": "code",
   "execution_count": 51,
   "metadata": {},
   "outputs": [
    {
     "data": {
      "text/plain": [
       "866666673"
      ]
     },
     "execution_count": 51,
     "metadata": {},
     "output_type": "execute_result"
    }
   ],
   "source": [
    "(4*mi(15,1000000007))%1000000007"
   ]
  },
  {
   "cell_type": "code",
   "execution_count": null,
   "metadata": {},
   "outputs": [],
   "source": [
    "for _ in range(int(input())):\n",
    "    n = int(input())\n",
    "    s = str(input())\n",
    "    arr = [0]*n\n",
    "    for i in range(n):\n",
    "        if(s[i] == '('):\n",
    "            arr[i] = 1\n",
    "        elif(s[i] ==')'):\n",
    "            arr[i] = -1\n",
    "        else:\n",
    "            arr[i] = 0\n",
    "    for i in range(1,n):\n",
    "        arr[i] = arr[i]+arr[i-1]\n",
    "    print(ms(arr,0,n-1))\n",
    "            "
   ]
  },
  {
   "cell_type": "code",
   "execution_count": null,
   "metadata": {},
   "outputs": [],
   "source": []
  },
  {
   "cell_type": "code",
   "execution_count": null,
   "metadata": {},
   "outputs": [],
   "source": []
  }
 ],
 "metadata": {
  "kernelspec": {
   "display_name": "Python 3",
   "language": "python",
   "name": "python3"
  },
  "language_info": {
   "codemirror_mode": {
    "name": "ipython",
    "version": 3
   },
   "file_extension": ".py",
   "mimetype": "text/x-python",
   "name": "python",
   "nbconvert_exporter": "python",
   "pygments_lexer": "ipython3",
   "version": "3.7.2"
  }
 },
 "nbformat": 4,
 "nbformat_minor": 4
}
