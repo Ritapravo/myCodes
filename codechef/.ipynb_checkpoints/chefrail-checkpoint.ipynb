{
 "cells": [
  {
   "cell_type": "code",
   "execution_count": 35,
   "metadata": {},
   "outputs": [
    {
     "name": "stdout",
     "output_type": "stream",
     "text": [
      "[set(), {1}, {1, 2, 4}, {1, 3, 9}, {1, 2, 4, 8, 16}, {1, 5, 25}, {1, 2, 3, 4, 36, 6, 9, 12, 18}, {1, 49, 7}, {64, 32, 1, 2, 4, 8, 16}, {1, 3, 9, 81, 27}, {1, 2, 100, 5, 4, 10, 50, 20, 25}]\n"
     ]
    }
   ],
   "source": [
    "from math import sqrt\n",
    "\n",
    "def factors(x):\n",
    "    s = set()\n",
    "    for i in range(1,int(sqrt(x))+1):\n",
    "        if(x%i == 0 ):\n",
    "            s.add(i)\n",
    "            s.add(x//i)\n",
    "    s2 = set()\n",
    "    for i in s:\n",
    "        for j in s:\n",
    "            s2.add(i*j)\n",
    "    return s2\n",
    "N = pow(10,1)\n",
    "fact = []\n",
    "for i in range(N+1):\n",
    "    fact.append(factors(i))\n",
    "#print(fact)"
   ]
  },
  {
   "cell_type": "code",
   "execution_count": 62,
   "metadata": {
    "scrolled": true
   },
   "outputs": [
    {
     "name": "stdout",
     "output_type": "stream",
     "text": [
      "1\n",
      "2 4\n",
      "4 0\n",
      "8 2 -2 -8\n",
      "6\n"
     ]
    }
   ],
   "source": [
    "for _ in range(int(input())):\n",
    "    n1, n2 = map(int, input().split())\n",
    "    X = {int(i) for i in input().split()}\n",
    "    Y = {int(j) for j in input().split()}\n",
    "    zero_x = False\n",
    "    zero_y = False\n",
    "    if 0 in X:\n",
    "        X.remove(0)\n",
    "        zero_x = True\n",
    "    if 0 in Y:\n",
    "        Y.remove(0)\n",
    "        zero_y = True\n",
    "    count = 0\n",
    "    for x in X:\n",
    "        x2 = x*x\n",
    "        ch = fact[abs(x)]\n",
    "        for j in ch:\n",
    "            if j in Y:\n",
    "                if -x2//j in Y:\n",
    "                    count += 1\n",
    "                    if j*j == x2:\n",
    "                        count += 1\n",
    "            if(j*j != x2):\n",
    "                if -j in Y:\n",
    "                    if x2//j in Y:\n",
    "                        count += 1\n",
    "                        if j*j == x2:\n",
    "                            count += 1\n",
    "    for y in Y:\n",
    "        y2 = y*y\n",
    "        ch2 = fact[abs(y)]\n",
    "        for j in ch2:\n",
    "            if j in X:\n",
    "                if -y2//j in X:\n",
    "                    count += 1\n",
    "                    if j*j == y2:\n",
    "                        count += 1\n",
    "            if (j*j != y2):\n",
    "                if -j in X:\n",
    "                    if y2//j in X:\n",
    "                        count += 1\n",
    "                        if j*j == y2:\n",
    "                            count += 1\n",
    "    count = count//2\n",
    "    if(zero_x or zero_y):\n",
    "        count += len(X)*len(Y)\n",
    "    print(count)"
   ]
  },
  {
   "cell_type": "code",
   "execution_count": null,
   "metadata": {},
   "outputs": [],
   "source": []
  },
  {
   "cell_type": "code",
   "execution_count": null,
   "metadata": {},
   "outputs": [],
   "source": []
  }
 ],
 "metadata": {
  "kernelspec": {
   "display_name": "Python 3",
   "language": "python",
   "name": "python3"
  },
  "language_info": {
   "codemirror_mode": {
    "name": "ipython",
    "version": 3
   },
   "file_extension": ".py",
   "mimetype": "text/x-python",
   "name": "python",
   "nbconvert_exporter": "python",
   "pygments_lexer": "ipython3",
   "version": "3.7.2"
  }
 },
 "nbformat": 4,
 "nbformat_minor": 4
}
