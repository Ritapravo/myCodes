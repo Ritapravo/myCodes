{
 "cells": [
  {
   "cell_type": "code",
   "execution_count": 1,
   "metadata": {},
   "outputs": [
    {
     "name": "stdout",
     "output_type": "stream",
     "text": [
      "4\n",
      "1\n",
      "-1\n",
      "2\n",
      "98\n",
      "3\n",
      "998\n",
      "4\n",
      "9998\n"
     ]
    }
   ],
   "source": [
    "for _ in range(int(input())):\n",
    "    n = int(input())\n",
    "    if(n==1):\n",
    "        print (-1)\n",
    "    else:\n",
    "        for i in range(n-1):\n",
    "            print(9,end = \"\")\n",
    "        print(8)\n",
    "        "
   ]
  },
  {
   "cell_type": "code",
   "execution_count": null,
   "metadata": {},
   "outputs": [],
   "source": [
    "#include<iostream>\n",
    "#include<vector>\n",
    "#include<iostream>\n",
    "#include<bits/stdc++.h>\n",
    "#define ll long long int\n",
    "using namespace std;\n",
    "\n",
    "int main(){\n",
    "    ll n;\n",
    "    cin>>n;\n",
    "    ll x=0;\n",
    "    ll inp;\n",
    "    for(ll i = 0 ; i<n; i++){\n",
    "        cin>>inp;\n",
    "        int tmp = x;\n",
    "        if(inp>0)\n",
    "            x += inp;\n",
    "        cout<<tmp+inp<<\" \";\n",
    "    }\n",
    "    //cout<<endl;\n",
    "}\n"
   ]
  },
  {
   "cell_type": "code",
   "execution_count": 19,
   "metadata": {},
   "outputs": [
    {
     "name": "stdout",
     "output_type": "stream",
     "text": [
      "7 3\n",
      "2 7 3 1 5 4 6\n",
      "18 6\n"
     ]
    }
   ],
   "source": [
    "n,k = map(int,input().split())\n",
    "ans1 = n*(n+1)//2 - (n-k)*(n-k+1)//2\n",
    "d = dict()\n",
    "nums = [int(i) for i in input().split()]\n",
    "for i in range(n):\n",
    "    d[nums[i]] = i\n",
    "li = []\n",
    "for i in range(n-k+1,n+1):\n",
    "    li.append(d[i])\n",
    "li.sort()\n",
    "ans2 = 1\n",
    "for i in range(1,len(li)):\n",
    "    ans2 *= li[i]-li[i-1]\n",
    "print(ans1,ans2%998244353)"
   ]
  },
  {
   "cell_type": "code",
   "execution_count": null,
   "metadata": {},
   "outputs": [],
   "source": [
    "for _ in range(int(input())):\n",
    "    s = input()\n",
    "    n = len(s)\n",
    "    m = 1\n",
    "    f = s[0]\n",
    "    if(s==s[::-1]):\n",
    "        print(s)\n",
    "    for i in range(n):\n",
    "        for j in range(i+1):\n",
    "            s2=s[:j]+s[i:]\n",
    "            print(s2)\n",
    "            if(len(s2)>m):\n",
    "                if(s2==s2[::-1]):\n",
    "                    m = len(s2)\n",
    "                    f = s2\n",
    "    print(f)\n",
    "                "
   ]
  },
  {
   "cell_type": "code",
   "execution_count": null,
   "metadata": {},
   "outputs": [],
   "source": []
  },
  {
   "cell_type": "code",
   "execution_count": null,
   "metadata": {},
   "outputs": [],
   "source": []
  }
 ],
 "metadata": {
  "kernelspec": {
   "display_name": "Python 3",
   "language": "python",
   "name": "python3"
  },
  "language_info": {
   "codemirror_mode": {
    "name": "ipython",
    "version": 3
   },
   "file_extension": ".py",
   "mimetype": "text/x-python",
   "name": "python",
   "nbconvert_exporter": "python",
   "pygments_lexer": "ipython3",
   "version": "3.7.2"
  }
 },
 "nbformat": 4,
 "nbformat_minor": 4
}
