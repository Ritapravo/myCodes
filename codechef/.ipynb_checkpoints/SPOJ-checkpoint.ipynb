{
 "cells": [
  {
   "cell_type": "code",
   "execution_count": 1,
   "metadata": {},
   "outputs": [
    {
     "name": "stdout",
     "output_type": "stream",
     "text": [
      "1\n",
      "6\n",
      "1 5 4 8 6 3\n",
      "156348\n"
     ]
    }
   ],
   "source": [
    "#Spoj problem - Just Next\n",
    "#link- https://www.spoj.com/problems/JNEXT/\n",
    "\n",
    "for _ in range(int(input())):\n",
    "    n = int(input())\n",
    "    li = [int(i) for i in input().split()]\n",
    "    k = -1\n",
    "    for i in range(n-1,0,-1):\n",
    "        if(li[i]>li[i-1]):\n",
    "            k = i-1\n",
    "            break\n",
    "    if(k==-1):\n",
    "        print(k)\n",
    "    \n",
    "    else:\n",
    "        l = n-1\n",
    "        for i in range(n-1,k,-1):\n",
    "            if(li[i]>li[k]):\n",
    "                l = i\n",
    "                break\n",
    "        li[k],li[l] = li[l],li[k]\n",
    "        s = \"\"\n",
    "        for i in range(k+1):\n",
    "            s += str(li[i])\n",
    "        for i in range(n-1,k,-1):\n",
    "            s += str(li[i])\n",
    "        \n",
    "        print(s)"
   ]
  },
  {
   "cell_type": "code",
   "execution_count": null,
   "metadata": {},
   "outputs": [],
   "source": [
    "\"\"\"\n",
    "Input:\n",
    "5\n",
    "5\n",
    "1 5 4 8 3\n",
    "6\n",
    "1 5 4 8 6 3\n",
    "10\n",
    "1 4 7 4 5 8 4 1 2 6\n",
    "5\n",
    "1 9 8 7 6\n",
    "5\n",
    "1 1 1 1 1\n",
    "\n",
    "Output:\n",
    "15834\n",
    "156348\n",
    "1474584162\n",
    "61789\n",
    "-1\n",
    "\"\"\""
   ]
  },
  {
   "cell_type": "code",
   "execution_count": 2,
   "metadata": {},
   "outputs": [
    {
     "name": "stdout",
     "output_type": "stream",
     "text": [
      "5\n",
      "4 1 5 3 2\n",
      "no\n",
      "0\n"
     ]
    }
   ],
   "source": [
    "#SPOJ -> STPAR -> Street Parade\n",
    "#link -> https://www.spoj.com/problems/STPAR/\n",
    "\n",
    "while(True):\n",
    "    n = int(input())\n",
    "    if(n==0):\n",
    "        break\n",
    "    arr = [int(i) for i in input().split()]\n",
    "    stack = []\n",
    "    k = 1\n",
    "    ind = True\n",
    "    i = 0\n",
    "    while(i<n):\n",
    "        if(arr[i]==k):\n",
    "            k += 1\n",
    "            i += 1\n",
    "        elif(stack!=[]):\n",
    "            if k==stack[-1]:\n",
    "                stack.pop()\n",
    "                #print(\"pop\",stack.pop())\n",
    "                k += 1\n",
    "            else:\n",
    "                if(stack[-1]<arr[i]):\n",
    "                    ind = False\n",
    "                    break\n",
    "                else:\n",
    "                    stack.append(arr[i])\n",
    "                    #print(arr[i])\n",
    "                    i += 1\n",
    "        elif(stack==[]):\n",
    "            stack.append(arr[i])\n",
    "            i += 1\n",
    "            #print(arr[i])\n",
    "    if(ind):\n",
    "        print(\"yes\")\n",
    "    else:\n",
    "        print(\"no\")"
   ]
  },
  {
   "cell_type": "code",
   "execution_count": null,
   "metadata": {},
   "outputs": [],
   "source": [
    "\"\"\"\n",
    "INPUT\n",
    "5\n",
    "5 1 2 4 3\n",
    "5\n",
    "4 1 5 3 2\n",
    "10\n",
    "1 2 10 5 4 3 7 6 8 9 0\n",
    "0\n",
    "\n",
    "OUTPUT\n",
    "yes\n",
    "no\n",
    "yes\n",
    "\n",
    "\"\"\""
   ]
  },
  {
   "cell_type": "code",
   "execution_count": 3,
   "metadata": {},
   "outputs": [
    {
     "name": "stdout",
     "output_type": "stream",
     "text": [
      "a\n",
      "a\n",
      "a\n",
      "a\n",
      "a\n"
     ]
    }
   ],
   "source": [
    "t = 5\n",
    "while t:\n",
    "    print(\"a\")\n",
    "    t -= 1"
   ]
  },
  {
   "cell_type": "code",
   "execution_count": null,
   "metadata": {},
   "outputs": [],
   "source": [
    "t = int(input())\n",
    "while(t):\n",
    "    n = int(input())\n",
    "    a = [int(i) for i in input().split()]\n",
    "    b = [int(i) for i in input().split()]\n",
    "    a.sort()\n",
    "    b.sort()\n",
    "    s = 0\n",
    "    for i in range(n):\n",
    "        s += min(a[i],b[i])\n",
    "    t -= 1\n",
    "    print(s)"
   ]
  },
  {
   "cell_type": "code",
   "execution_count": null,
   "metadata": {},
   "outputs": [],
   "source": []
  }
 ],
 "metadata": {
  "kernelspec": {
   "display_name": "Python 3",
   "language": "python",
   "name": "python3"
  },
  "language_info": {
   "codemirror_mode": {
    "name": "ipython",
    "version": 3
   },
   "file_extension": ".py",
   "mimetype": "text/x-python",
   "name": "python",
   "nbconvert_exporter": "python",
   "pygments_lexer": "ipython3",
   "version": "3.7.2"
  }
 },
 "nbformat": 4,
 "nbformat_minor": 4
}
