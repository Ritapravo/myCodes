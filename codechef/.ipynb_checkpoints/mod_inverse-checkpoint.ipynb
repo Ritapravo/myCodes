{
 "cells": [
  {
   "cell_type": "code",
   "execution_count": 1,
   "metadata": {},
   "outputs": [],
   "source": [
    "def modInverse(a, m) : \n",
    "      \n",
    "    g = gcd(a, m) \n",
    "      \n",
    "    if (g != 1) : \n",
    "        return -1\n",
    "          \n",
    "    else :\n",
    "        return power(a, m - 2, m)\n",
    "        \n",
    "\n",
    "def power(x, y, m) : \n",
    "      \n",
    "    if (y == 0) : \n",
    "        return 1\n",
    "          \n",
    "    p = power(x, y // 2, m) % m \n",
    "    p = (p * p) % m \n",
    "  \n",
    "    if(y % 2 == 0) : \n",
    "        return p  \n",
    "    else :  \n",
    "        return ((x * p) % m) \n",
    "    \n",
    "def gcd(a, b) : \n",
    "    if (a == 0) : \n",
    "        return b \n",
    "          \n",
    "    return gcd(b % a, a) "
   ]
  },
  {
   "cell_type": "code",
   "execution_count": 7,
   "metadata": {},
   "outputs": [
    {
     "data": {
      "text/plain": [
       "866666673"
      ]
     },
     "execution_count": 7,
     "metadata": {},
     "output_type": "execute_result"
    }
   ],
   "source": [
    "(4*modInverse(15,1000000007))%1000000007"
   ]
  },
  {
   "cell_type": "code",
   "execution_count": 3,
   "metadata": {},
   "outputs": [
    {
     "data": {
      "text/plain": [
       "1000000007"
      ]
     },
     "execution_count": 3,
     "metadata": {},
     "output_type": "execute_result"
    }
   ],
   "source": [
    "pow(10,9)+7"
   ]
  },
  {
   "cell_type": "code",
   "execution_count": 11,
   "metadata": {},
   "outputs": [
    {
     "name": "stdout",
     "output_type": "stream",
     "text": [
      "1 2 3 4 \n",
      "1 2 3 \n",
      "1 2 \n",
      "1 \n"
     ]
    }
   ],
   "source": [
    "a = [1,2,3,4]\n",
    "n = 4\n",
    "for  i in range(n):\n",
    "    for j in range(n-i):\n",
    "        print(a[j],end = \" \")\n",
    "    print(\"\")"
   ]
  },
  {
   "cell_type": "code",
   "execution_count": 16,
   "metadata": {},
   "outputs": [
    {
     "name": "stdout",
     "output_type": "stream",
     "text": [
      "{6: [0], 9: [1, 4, 6], 8: [2], 5: [3], 7: [5, 9], 13: [7], 19: [8], 0: [10]}\n",
      "[10]\n",
      "[(2, 4), (2, 6), (5, 6), (6, 9), (0, 10)]\n"
     ]
    }
   ],
   "source": [
    "arr = [6, 3, -1, -3, 4, -2, 2, 4, 6, -12, -7]\n",
    "hashMap = {} \n",
    "n = len(arr)\n",
    "out = [] \n",
    "\n",
    "# tracker for sum of elements \n",
    "sum1 = 0\n",
    "for i in range(n): \n",
    "\n",
    "    # increment sum by element of array \n",
    "    sum1 += arr[i] \n",
    "\n",
    "    # if sum is 0, we found a subarray starting  \n",
    "    # from index 0 and ending at index i \n",
    "    if sum1 == 0: \n",
    "        out.append((0, i)) \n",
    "    al = [] \n",
    "\n",
    "    # If sum already exists in the map  \n",
    "    # there exists at-least one subarray  \n",
    "    # ending at index i with 0 sum  \n",
    "    if sum1 in hashMap: \n",
    "\n",
    "        # map[sum] stores starting index  \n",
    "        # of all subarrays \n",
    "        al = hashMap.get(sum1) \n",
    "        for it in range(len(al)): \n",
    "            out.append((al[it] + 1, i)) \n",
    "    al.append(i) \n",
    "    hashMap[sum1] = al\n",
    "print(hashMap)\n",
    "print(al)\n",
    "print(out)"
   ]
  },
  {
   "cell_type": "code",
   "execution_count": 15,
   "metadata": {},
   "outputs": [
    {
     "data": {
      "text/plain": [
       "[(2, 4), (2, 6), (5, 6), (6, 9), (0, 10)]"
      ]
     },
     "execution_count": 15,
     "metadata": {},
     "output_type": "execute_result"
    }
   ],
   "source": [
    "out"
   ]
  },
  {
   "cell_type": "code",
   "execution_count": null,
   "metadata": {},
   "outputs": [],
   "source": []
  }
 ],
 "metadata": {
  "kernelspec": {
   "display_name": "Python 3",
   "language": "python",
   "name": "python3"
  },
  "language_info": {
   "codemirror_mode": {
    "name": "ipython",
    "version": 3
   },
   "file_extension": ".py",
   "mimetype": "text/x-python",
   "name": "python",
   "nbconvert_exporter": "python",
   "pygments_lexer": "ipython3",
   "version": "3.7.2"
  }
 },
 "nbformat": 4,
 "nbformat_minor": 4
}
