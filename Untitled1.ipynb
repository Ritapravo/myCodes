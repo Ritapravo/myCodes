{
 "cells": [
  {
   "cell_type": "code",
   "execution_count": 9,
   "metadata": {},
   "outputs": [
    {
     "name": "stdout",
     "output_type": "stream",
     "text": [
      "abcd\n",
      "{'acd', 'b', '', 'ac', 'abc', 'a', 'bd', 'bcd', 'ab', 'abd', 'ad', 'bc', 'cd', 'c', 'd', 'abcd'}\n"
     ]
    }
   ],
   "source": [
    "#when input is a string\n",
    "def ps(s, index, curr, l):\n",
    "    if(index==len(s)):\n",
    "        l.add(curr)\n",
    "        return\n",
    "    ps(s, index + 1, curr + s[index],l)\n",
    "    ps(s, index + 1, curr,l)\n",
    "\n",
    "s = input()\n",
    "l = set()\n",
    "ps(s,0,\"\",l)\n",
    "print(l)"
   ]
  },
  {
   "cell_type": "code",
   "execution_count": 23,
   "metadata": {},
   "outputs": [
    {
     "name": "stdout",
     "output_type": "stream",
     "text": [
      "1 2 3\n",
      "[[1, 2, 3], [1, 2], [1, 3], [1], [2, 3], [2], [3], []]\n"
     ]
    }
   ],
   "source": [
    "#when input is an array\n",
    "def ps2(s, index, curr, l):\n",
    "    if(index==len(s)):\n",
    "        l.append(curr)\n",
    "        return\n",
    "    ps2(s, index + 1, curr +[s[index]],l)\n",
    "    ps2(s, index + 1, curr,l)\n",
    "\n",
    "s = [int(i) for i in input().split()]\n",
    "l = list()\n",
    "curr = []\n",
    "ps2(s,0,curr,l)\n",
    "print(l)"
   ]
  },
  {
   "cell_type": "code",
   "execution_count": null,
   "metadata": {},
   "outputs": [],
   "source": []
  }
 ],
 "metadata": {
  "kernelspec": {
   "display_name": "Python 3",
   "language": "python",
   "name": "python3"
  },
  "language_info": {
   "codemirror_mode": {
    "name": "ipython",
    "version": 3
   },
   "file_extension": ".py",
   "mimetype": "text/x-python",
   "name": "python",
   "nbconvert_exporter": "python",
   "pygments_lexer": "ipython3",
   "version": "3.7.2"
  }
 },
 "nbformat": 4,
 "nbformat_minor": 4
}
