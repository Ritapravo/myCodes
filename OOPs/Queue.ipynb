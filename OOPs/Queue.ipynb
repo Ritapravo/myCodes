{
 "cells": [
  {
   "cell_type": "code",
   "execution_count": 13,
   "metadata": {},
   "outputs": [],
   "source": [
    "class queue:\n",
    "    def __init__(self,capacity):\n",
    "        self.front = self.size = 0\n",
    "        self.rear = self.size\n",
    "        self.capacity = capacity \n",
    "        self.arr = [None for i in range(capacity)]\n",
    "    def isEmpty(self):\n",
    "        return self.size == 0\n",
    "    def isFull(self):\n",
    "        return self.size == self.capacity\n",
    "    def enqueue(self,item):\n",
    "        if(self.isFull()):\n",
    "            print(-1)\n",
    "            return\n",
    "        self.arr[self.rear]=item\n",
    "        self.rear = (self.rear + 1)%self.capacity\n",
    "        self.size += 1\n",
    "    def dequeue(self):\n",
    "        if(self.isEmpty()):\n",
    "            print(-1)\n",
    "            return\n",
    "        self.front = (self.front + 1)%self.capacity\n",
    "        self.size = self.size - 1\n",
    "    def front(self):\n",
    "        if(self.isEmpty()):\n",
    "            return -1\n",
    "        return self.arr[self.front]\n",
    "    def rear(self):\n",
    "        if(self.isEmpty()):\n",
    "            return -1\n",
    "        return self.arr[self.rear]\n",
    "    def printQ(self):\n",
    "        for i in range(self.front, self.front+self.size):\n",
    "            print(self.arr[i],end = \" \")\n",
    "        print(\"\")"
   ]
  },
  {
   "cell_type": "code",
   "execution_count": 16,
   "metadata": {},
   "outputs": [
    {
     "name": "stdout",
     "output_type": "stream",
     "text": [
      "-1\n",
      "7 \n"
     ]
    }
   ],
   "source": [
    "q = queue(2)\n",
    "q.enqueue(5)\n",
    "q.enqueue(7)\n",
    "q.enqueue(9)\n",
    "q.dequeue()\n",
    "q.printQ()"
   ]
  },
  {
   "cell_type": "code",
   "execution_count": null,
   "metadata": {},
   "outputs": [],
   "source": []
  },
  {
   "cell_type": "code",
   "execution_count": null,
   "metadata": {},
   "outputs": [],
   "source": []
  }
 ],
 "metadata": {
  "kernelspec": {
   "display_name": "Python 3",
   "language": "python",
   "name": "python3"
  },
  "language_info": {
   "codemirror_mode": {
    "name": "ipython",
    "version": 3
   },
   "file_extension": ".py",
   "mimetype": "text/x-python",
   "name": "python",
   "nbconvert_exporter": "python",
   "pygments_lexer": "ipython3",
   "version": "3.7.2"
  }
 },
 "nbformat": 4,
 "nbformat_minor": 4
}
