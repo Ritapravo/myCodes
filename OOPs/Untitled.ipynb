{
 "cells": [
  {
   "cell_type": "code",
   "execution_count": 52,
   "metadata": {},
   "outputs": [
    {
     "data": {
      "text/plain": [
       "[9, 7, 8, 1, 3, 5, 3]"
      ]
     },
     "execution_count": 52,
     "metadata": {},
     "output_type": "execute_result"
    }
   ],
   "source": [
    "def showHeap(li):\n",
    "    return [-i for i in li]\n",
    "import heapq\n",
    "li = [5, 7, 9, 1, 3, 8, 3]\n",
    "#heapq.heapify(li)\n",
    "#print(li)\n",
    "li2 = [-i for i in li]\n",
    "heapq.heapify(li2)\n",
    "showHeap(li2)"
   ]
  },
  {
   "cell_type": "code",
   "execution_count": 50,
   "metadata": {},
   "outputs": [],
   "source": [
    "def max_heapify(arr,n,i):\n",
    "    l = 2*i + 1\n",
    "    r = 2*i + 2\n",
    "    largest = i\n",
    "    if(l<n):\n",
    "        if(arr[l]>arr[i]):\n",
    "            largest = l\n",
    "\n",
    "    if(r<n ):\n",
    "        if(arr[r]>arr[largest]):\n",
    "            largest = r\n",
    "    if(i!=largest):\n",
    "        arr[i],arr[largest] = arr[largest],arr[i]\n",
    "        max_heapify(arr,n,largest)\n",
    "def max_heap(arr):\n",
    "    n = len(arr)\n",
    "    for i in range(n,-1,-1):\n",
    "        max_heapify(arr,n,i)"
   ]
  },
  {
   "cell_type": "code",
   "execution_count": 51,
   "metadata": {},
   "outputs": [
    {
     "data": {
      "text/plain": [
       "[9, 7, 8, 1, 3, 5, 3]"
      ]
     },
     "execution_count": 51,
     "metadata": {},
     "output_type": "execute_result"
    }
   ],
   "source": [
    "li = [5, 7, 9, 1, 3,8,3] \n",
    "max_heap(li)\n",
    "li"
   ]
  },
  {
   "cell_type": "code",
   "execution_count": null,
   "metadata": {},
   "outputs": [],
   "source": []
  }
 ],
 "metadata": {
  "kernelspec": {
   "display_name": "Python 3",
   "language": "python",
   "name": "python3"
  },
  "language_info": {
   "codemirror_mode": {
    "name": "ipython",
    "version": 3
   },
   "file_extension": ".py",
   "mimetype": "text/x-python",
   "name": "python",
   "nbconvert_exporter": "python",
   "pygments_lexer": "ipython3",
   "version": "3.7.2"
  }
 },
 "nbformat": 4,
 "nbformat_minor": 4
}
