{
 "cells": [
  {
   "cell_type": "code",
   "execution_count": 33,
   "metadata": {},
   "outputs": [],
   "source": [
    "class Employee:\n",
    "    raise_amt = 1.2\n",
    "    number = 0 \n",
    "    def __init__(self,first,last,pay):\n",
    "        self.first = first\n",
    "        self.last = last\n",
    "        self.pay = pay\n",
    "        self.email = first + '.' + last + '@gmail.com'\n",
    "        Employee.number += 1\n",
    "        \n",
    "    def fullname(self):\n",
    "        return (self.first+\" \"+self.last)\n",
    "    \n",
    "    def raised(self):\n",
    "        self.pay = int(self.pay*self.raise_amt)\n",
    "    \n",
    "    @classmethod\n",
    "    def set_raise(cls, r):\n",
    "        cls.raise_amt = r\n",
    "        \n",
    "    #constructor to form an instance from a string\n",
    "    @classmethod\n",
    "    def from_string(cls, emp_str):\n",
    "        first, last, pay = emp_str.split('-')\n",
    "        return cls(first,last,pay)\n",
    "\n"
   ]
  },
  {
   "cell_type": "code",
   "execution_count": 35,
   "metadata": {},
   "outputs": [
    {
     "name": "stdout",
     "output_type": "stream",
     "text": [
      "1000\n",
      "arg.doo@gmail.com\n",
      "rito sark\n",
      "arg doo\n",
      "{'first': 'Ami', 'last': 'Indian', 'pay': '4000', 'email': 'Ami.Indian@gmail.com'}\n"
     ]
    }
   ],
   "source": [
    "        \n",
    "emp1 = Employee('rito','sark',1000)\n",
    "emp2 = Employee('arg', 'doo', 2000)\n",
    "emp3 = Employee.from_string('Ami-Indian-4000')\n",
    "\n",
    "\n",
    "print(emp1.pay)\n",
    "print(emp2.email)\n",
    "print(emp1.fullname())\n",
    "print(Employee.fullname(emp2))\n",
    "\n",
    "print(emp3.__dict__)"
   ]
  },
  {
   "cell_type": "code",
   "execution_count": 38,
   "metadata": {},
   "outputs": [
    {
     "name": "stdout",
     "output_type": "stream",
     "text": [
      "1800\n",
      "1.4\n",
      "1.5\n",
      "1.6\n",
      "5\n"
     ]
    }
   ],
   "source": [
    "emp1.raised()\n",
    "print(emp1.pay)\n",
    "#print(emp1.__dict__)\n",
    "Employee.raise_amt = 1.4\n",
    "emp1.raise_amt = 1.5\n",
    "emp2.raise_amt = 1.6\n",
    "print(Employee.raise_amt)\n",
    "print(emp1.raise_amt)\n",
    "print(emp2.raise_amt)\n",
    "print(Employee.number)"
   ]
  },
  {
   "cell_type": "code",
   "execution_count": 39,
   "metadata": {},
   "outputs": [
    {
     "name": "stdout",
     "output_type": "stream",
     "text": [
      "1.8\n",
      "1.5\n",
      "1.6\n"
     ]
    }
   ],
   "source": [
    "Employee.set_raise(1.8)\n",
    "print(Employee.raise_amt)\n",
    "print(emp1.raise_amt)\n",
    "print(emp2.raise_amt)"
   ]
  },
  {
   "cell_type": "code",
   "execution_count": 42,
   "metadata": {
    "scrolled": true
   },
   "outputs": [
    {
     "name": "stdout",
     "output_type": "stream",
     "text": [
      "1.8\n",
      "bini.hind@gmail.com\n",
      "{'first': 'bini', 'last': 'hind', 'pay': 15000, 'email': 'bini.hind@gmail.com', 'lang': 'Python'}\n"
     ]
    }
   ],
   "source": [
    "#creating subclasses\n",
    "class Developer(Employee):\n",
    "    def __init__(self,first,last,pay,lang):\n",
    "        super().__init__(first,last,pay)\n",
    "        #Employee.__init__(self, dirst, last, pay)\n",
    "        self.lang = lang\n",
    "    \n",
    "dev1 = Developer('ani','sind',12000,'Java')\n",
    "dev2 = Developer('bini', 'hind', 15000,'Python')\n",
    "print(dev1.raise_amt)\n",
    "print(dev2.email)\n",
    "print(dev2.__dict__)"
   ]
  },
  {
   "cell_type": "code",
   "execution_count": 48,
   "metadata": {},
   "outputs": [
    {
     "name": "stdout",
     "output_type": "stream",
     "text": [
      "Sue.Smith@gmail.com\n",
      "--> ani sind\n",
      "\n",
      "--> ani sind\n",
      "--> bini hind\n",
      "\n",
      "--> bini hind\n"
     ]
    }
   ],
   "source": [
    "class Manager(Employee):\n",
    "    def __init__(self,first,last,pay,employees = None):\n",
    "        super().__init__(first,last,pay)\n",
    "        if employees is None:\n",
    "            self.employees = []\n",
    "        else:\n",
    "            self.employees = employees\n",
    "    def add_emp(self,emp):\n",
    "        if emp not in self.employees:\n",
    "            self.employees.append(emp)\n",
    "    def remove_emp(self,emp):\n",
    "        if emp  in self.employees:\n",
    "            self.employees.remove(emp) \n",
    "    def print_emp(self):\n",
    "        for emp in self.employees:\n",
    "            print('-->', emp.fullname())\n",
    "            \n",
    "m1 = Manager('Sue', 'Smith', 9000, [dev1])\n",
    "print(m1.email)\n",
    "m1.print_emp()\n",
    "m1.add_emp(dev2)\n",
    "print(\"\")\n",
    "m1.print_emp()\n",
    "print(\"\")\n",
    "m1.remove_emp(dev1)\n",
    "m1.print_emp()\n",
    "\n"
   ]
  },
  {
   "cell_type": "code",
   "execution_count": null,
   "metadata": {},
   "outputs": [],
   "source": []
  }
 ],
 "metadata": {
  "kernelspec": {
   "display_name": "Python 3",
   "language": "python",
   "name": "python3"
  },
  "language_info": {
   "codemirror_mode": {
    "name": "ipython",
    "version": 3
   },
   "file_extension": ".py",
   "mimetype": "text/x-python",
   "name": "python",
   "nbconvert_exporter": "python",
   "pygments_lexer": "ipython3",
   "version": "3.7.2"
  }
 },
 "nbformat": 4,
 "nbformat_minor": 4
}
