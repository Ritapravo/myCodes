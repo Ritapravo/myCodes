{
 "cells": [
  {
   "cell_type": "code",
   "execution_count": 9,
   "metadata": {},
   "outputs": [
    {
     "name": "stdout",
     "output_type": "stream",
     "text": [
      "abcd\n",
      "{'acd', 'b', '', 'ac', 'abc', 'a', 'bd', 'bcd', 'ab', 'abd', 'ad', 'bc', 'cd', 'c', 'd', 'abcd'}\n"
     ]
    }
   ],
   "source": [
    "#when input is a string\n",
    "def ps(s, index, curr, l):\n",
    "    if(index==len(s)):\n",
    "        l.add(curr)\n",
    "        return\n",
    "    ps(s, index + 1, curr + s[index],l)\n",
    "    ps(s, index + 1, curr,l)\n",
    "\n",
    "s = input()\n",
    "l = set()\n",
    "ps(s,0,\"\",l)\n",
    "print(l)"
   ]
  },
  {
   "cell_type": "code",
   "execution_count": 21,
   "metadata": {},
   "outputs": [
    {
     "name": "stdout",
     "output_type": "stream",
     "text": [
      "1 2 3 4\n",
      "[[1, 2, 3, 4], [1, 2, 3], [1, 2, 4], [1, 2], [1, 3, 4], [1, 3], [1, 4], [1], [2, 3, 4], [2, 3], [2, 4], [2], [3, 4], [3], [4], []]\n"
     ]
    }
   ],
   "source": [
    "#when input is an array\n",
    "def ps2(s, index, curr, l):\n",
    "    if(index==len(s)):\n",
    "        l.append(curr)\n",
    "        return\n",
    "    ps2(s, index + 1, curr +[s[index]],l)\n",
    "    ps2(s, index + 1, curr,l)\n",
    "\n",
    "s = [int(i) for i in input().split()]\n",
    "l = list()\n",
    "curr = []\n",
    "ps2(s,0,curr,l)\n",
    "print(l)"
   ]
  },
  {
   "cell_type": "code",
   "execution_count": 39,
   "metadata": {},
   "outputs": [
    {
     "name": "stdout",
     "output_type": "stream",
     "text": [
      "[[3, 2, 1], [3, 2], [3, 1], [3], [2, 1], [2], [1], []]\n",
      "8\n"
     ]
    }
   ],
   "source": [
    "def subset(li,n,final=[],curr=[]):\n",
    "    if(n==0):\n",
    "        final.append(curr)\n",
    "        return\n",
    "    subset(li,n-1,final,curr+[li[n-1]])\n",
    "    subset(li,n-1,final,curr)\n",
    "    return final\n",
    "li = [1,2,3]\n",
    "final = subset(li,len(li))\n",
    "print(final)\n",
    "print(len(final))\n"
   ]
  },
  {
   "cell_type": "code",
   "execution_count": null,
   "metadata": {},
   "outputs": [],
   "source": []
  },
  {
   "cell_type": "code",
   "execution_count": null,
   "metadata": {},
   "outputs": [],
   "source": []
  }
 ],
 "metadata": {
  "kernelspec": {
   "display_name": "Python 3",
   "language": "python",
   "name": "python3"
  },
  "language_info": {
   "codemirror_mode": {
    "name": "ipython",
    "version": 3
   },
   "file_extension": ".py",
   "mimetype": "text/x-python",
   "name": "python",
   "nbconvert_exporter": "python",
   "pygments_lexer": "ipython3",
   "version": "3.7.2"
  }
 },
 "nbformat": 4,
 "nbformat_minor": 4
}
