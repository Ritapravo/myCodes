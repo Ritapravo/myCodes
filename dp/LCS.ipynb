{
 "cells": [
  {
   "cell_type": "code",
   "execution_count": 2,
   "metadata": {},
   "outputs": [],
   "source": [
    "def reverse(s):\n",
    "    s2 = \"\"\n",
    "    n = len(s)\n",
    "    for i in range(n-1,-1, -1):\n",
    "        s2 = s2 + s[i]\n",
    "    return (s2)"
   ]
  },
  {
   "cell_type": "code",
   "execution_count": 3,
   "metadata": {},
   "outputs": [],
   "source": [
    "def lcs(arr,s1, s2, m, n, curr, l):\n",
    "    if(n == 0 or m==0):\n",
    "        l.add(curr)\n",
    "        return\n",
    "    if(s1[m-1] == s2[n-1]):\n",
    "        lcs(arr, s1, s2, m-1 , n-1, curr+s1[m-1], l)\n",
    "    else:\n",
    "        if(arr[m][n]==arr[m-1][n]):\n",
    "            lcs(arr, s1, s2, m-1, n, curr, l)\n",
    "            \n",
    "        if(arr[m][n]==arr[m][n-1]):\n",
    "            lcs(arr, s1, s2, m, n-1, curr, l)\n"
   ]
  },
  {
   "cell_type": "code",
   "execution_count": 8,
   "metadata": {},
   "outputs": [
    {
     "name": "stdout",
     "output_type": "stream",
     "text": [
      "a\n",
      "b\n",
      "0\n",
      "{''}\n"
     ]
    }
   ],
   "source": [
    "s1 = reverse(input())\n",
    "s2 = reverse(input())\n",
    "#print(s2)\n",
    "n1 = len(s1)\n",
    "n2 = len(s2)\n",
    "\n",
    "arr = [[0 for i in range(n2+1)] for j in range(n1+1)]\n",
    "for i in range(1,n1+1):\n",
    "    for j in range(1,n2+1):\n",
    "        if(s1[i-1]==s2[j-1]):\n",
    "            arr[i][j] = arr[i-1][j-1]+1\n",
    "        else:\n",
    "            arr[i][j] = max(arr[i-1][j],arr[i][j-1])\n",
    "print(arr[n1][n2])\n",
    "\n",
    "l = set()\n",
    "curr = \"\"\n",
    "lcs(arr, s1, s2, n1, n2, curr, l)\n",
    "print(l)"
   ]
  },
  {
   "cell_type": "code",
   "execution_count": 1,
   "metadata": {},
   "outputs": [
    {
     "name": "stdout",
     "output_type": "stream",
     "text": [
      "5\n"
     ]
    }
   ],
   "source": [
    "#Longest increasing subsequence\n",
    "\n",
    "def LIS(nums):\n",
    "    n = len(nums)\n",
    "    arr = [1 for i in range(n)]\n",
    "    for i in range(n):\n",
    "        for j in range(0,i):\n",
    "            if(nums[j]<nums[i] and arr[j]+1>arr[i]):\n",
    "                arr[i] = arr[j]+1\n",
    "    #print(arr)\n",
    "    return arr[n-1]\n",
    "\n",
    "li = [10, 22, 9, 33, 21, 50, 41, 60]\n",
    "print(LIS(li))"
   ]
  },
  {
   "cell_type": "code",
   "execution_count": null,
   "metadata": {},
   "outputs": [],
   "source": []
  }
 ],
 "metadata": {
  "kernelspec": {
   "display_name": "Python 3",
   "language": "python",
   "name": "python3"
  },
  "language_info": {
   "codemirror_mode": {
    "name": "ipython",
    "version": 3
   },
   "file_extension": ".py",
   "mimetype": "text/x-python",
   "name": "python",
   "nbconvert_exporter": "python",
   "pygments_lexer": "ipython3",
   "version": "3.7.2"
  }
 },
 "nbformat": 4,
 "nbformat_minor": 4
}
