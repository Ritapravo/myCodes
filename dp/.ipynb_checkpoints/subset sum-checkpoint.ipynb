{
 "cells": [
  {
   "cell_type": "code",
   "execution_count": 96,
   "metadata": {},
   "outputs": [
    {
     "name": "stdout",
     "output_type": "stream",
     "text": [
      "\n"
     ]
    }
   ],
   "source": [
    "def ps2(arr,y, m, n, curr, l):\n",
    "    if(n == 0):\n",
    "        l.append(curr)\n",
    "        return\n",
    "    if(arr[m-1][n]==True):\n",
    "        ps2(arr, y, m-1, n, curr,l)\n",
    "    \n",
    "    if(arr[m-1][n-y[m-1]]==True and n-y[m-1]>=0):\n",
    "        ps2(arr, y, m-1, n-y[m-1], curr+[y[m-1]],l)\n",
    "\n",
    "x = 1\n",
    "y = [2, 3, 7, 8, 10]\n",
    "m = len(y)\n",
    "n = x\n",
    "arr = [[False for j in range(n+1)] for i in range(m+1)]\n",
    "for i in range(m+1):\n",
    "    arr[i][0] = True\n",
    "for i in range(1,m+1):\n",
    "    for j in range(1,n+1):\n",
    "        if(j<y[i-1]):\n",
    "            arr[i][j] = arr[i-1][j]\n",
    "        else:\n",
    "            arr[i][j] = arr[i-1][j] | arr[i-1][j-y[i-1]]\n",
    "            \n",
    "i = m\n",
    "j = n\n",
    "\n",
    "if(arr[i][j]==True):\n",
    "    print(\"Yes\")\n",
    "    l = list()\n",
    "    curr = []\n",
    "    ps2(arr, y, m, n, curr, l)\n",
    "    print(l)\n",
    "else:\n",
    "    print(\"NO\")\n"
   ]
  },
  {
   "cell_type": "code",
   "execution_count": 93,
   "metadata": {},
   "outputs": [],
   "source": [
    "def ps2(arr,y, m, n, curr, l):\n",
    "    if(n == 0):\n",
    "        l.append(curr)\n",
    "        return\n",
    "    if(arr[m-1][n]==True):\n",
    "        ps2(arr, y, m-1, n, curr,l)\n",
    "    \n",
    "    if(arr[m-1][n-y[m-1]]==True and n-y[m-1]>=0):\n",
    "        ps2(arr, y, m-1, n-y[m-1], curr+[y[m-1]],l)\n",
    "\n",
    "\n",
    "l = list()\n",
    "curr = []\n",
    "ps2(arr, y, m, n, curr, l)\n",
    "print(l)"
   ]
  },
  {
   "cell_type": "code",
   "execution_count": 99,
   "metadata": {},
   "outputs": [
    {
     "name": "stdout",
     "output_type": "stream",
     "text": [
      "\n",
      "            "
     ]
    }
   ],
   "source": [
    "if(arr[i][j]==True):\n",
    "    print(\"YES\")\n",
    "    while(i>0 and j>0):\n",
    "        if(arr[i-1][j]==True):\n",
    "            i = i-1\n",
    "        else:\n",
    "            print(y[i-1])\n",
    "            j = j - y[i-1]\n",
    "            i = i-1\n",
    "else:\n",
    "    print(\"NO\")\n",
    "        \n",
    "for i in range(m+1):\n",
    "    for j in range(n+1):\n",
    "        if(arr[i][j]==True):\n",
    "            print('T',end = \" \")\n",
    "        else:\n",
    "            print('F', end = \" \")\n",
    "    print(\"\")"
   ]
  },
  {
   "cell_type": "code",
   "execution_count": null,
   "metadata": {},
   "outputs": [],
   "source": []
  }
 ],
 "metadata": {
  "kernelspec": {
   "display_name": "Python 3",
   "language": "python",
   "name": "python3"
  },
  "language_info": {
   "codemirror_mode": {
    "name": "ipython",
    "version": 3
   },
   "file_extension": ".py",
   "mimetype": "text/x-python",
   "name": "python",
   "nbconvert_exporter": "python",
   "pygments_lexer": "ipython3",
   "version": "3.7.2"
  }
 },
 "nbformat": 4,
 "nbformat_minor": 4
}
