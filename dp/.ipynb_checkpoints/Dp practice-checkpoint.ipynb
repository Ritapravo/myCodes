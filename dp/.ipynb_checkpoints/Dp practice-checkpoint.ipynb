{
 "cells": [
  {
   "cell_type": "code",
   "execution_count": 69,
   "metadata": {},
   "outputs": [
    {
     "data": {
      "text/plain": [
       "13"
      ]
     },
     "execution_count": 69,
     "metadata": {},
     "output_type": "execute_result"
    }
   ],
   "source": [
    "#climbing stairs \n",
    "#same as fibonacci\n",
    "def climb(n):\n",
    "    if(n==0):\n",
    "        c.append(1)\n",
    "        return 1\n",
    "    if(n<0):\n",
    "        return 0\n",
    "    return climb(n-1) + climb(n-2)\n",
    "\n",
    "n = 6\n",
    "c = []\n",
    "f = 0 \n",
    "climb(n)\n"
   ]
  },
  {
   "cell_type": "code",
   "execution_count": 3,
   "metadata": {},
   "outputs": [
    {
     "name": "stdout",
     "output_type": "stream",
     "text": [
      "8\n",
      "21\n"
     ]
    }
   ],
   "source": [
    "#fibonacci using lookup\n",
    "\n",
    "n = int(input())\n",
    "lookup = [None for i in range(n+1)]\n",
    "def fib(n):\n",
    "    if(lookup[n]==None):\n",
    "        if(n<=1):\n",
    "            lookup[n]=n\n",
    "        else:\n",
    "            lookup[n]=fib(n-1)+fib(n-2)\n",
    "    return lookup[n]\n",
    "print(fib(n))"
   ]
  },
  {
   "cell_type": "code",
   "execution_count": 10,
   "metadata": {},
   "outputs": [
    {
     "name": "stdout",
     "output_type": "stream",
     "text": [
      "[1, 2, 1, 3, 2, 4, 4, 5]\n",
      "5\n"
     ]
    }
   ],
   "source": [
    "#Longest increasing subsequence\n",
    "\n",
    "def LIS(nums):\n",
    "    n = len(nums)\n",
    "    arr = [1 for i in range(n)]\n",
    "    for i in range(n):\n",
    "        for j in range(0,i):\n",
    "            if(nums[j]<nums[i] and arr[j]+1>arr[i]):\n",
    "                arr[i] = arr[j]+1\n",
    "    #print(arr)\n",
    "    return arr[n-1]\n",
    "\n",
    "li = [10, 22, 9, 33, 21, 50, 41, 60]\n",
    "print(LIS(li))"
   ]
  },
  {
   "cell_type": "code",
   "execution_count": 15,
   "metadata": {},
   "outputs": [
    {
     "name": "stdout",
     "output_type": "stream",
     "text": [
      "4\n"
     ]
    }
   ],
   "source": [
    "#Longest Common Subsequence\n",
    "\n",
    "def LCS(s1,s2):\n",
    "    n1 = len(s1)\n",
    "    n2 = len(s2)\n",
    "    arr = [[0 for j in range(n2+1)]for i in range(n1+1)]\n",
    "    for i in range(1,n1+1):\n",
    "        for j in range(1,n2+1):\n",
    "            if(s1[i-1]==s2[j-1]):\n",
    "                arr[i][j] = arr[i-1][j-1]+1\n",
    "            else:\n",
    "                arr[i][j] = max(arr[i-1][j],arr[i][j-1])\n",
    "    #print(arr)\n",
    "    return arr[n1][n2]\n",
    "s1 = \"abcdef\"\n",
    "s2 = \"abdcfe\"\n",
    "print(LCS(s1,s2))"
   ]
  },
  {
   "cell_type": "code",
   "execution_count": 22,
   "metadata": {},
   "outputs": [
    {
     "name": "stdout",
     "output_type": "stream",
     "text": [
      "3\n"
     ]
    }
   ],
   "source": [
    "#minimum edit distance\n",
    "#to convert s1 to s2\n",
    "\n",
    "def MED(s1,s2):\n",
    "    n1 = len(s1)\n",
    "    n2 = len(s2)\n",
    "    arr = [[0 for j in range(n2+1)] for i in range(n1+1)]\n",
    "    for i in range(n1+1):\n",
    "        for j in range(n2+1):\n",
    "            if(i==0):\n",
    "                arr[i][j] = j\n",
    "            elif(j==0):\n",
    "                arr[i][j] = i\n",
    "            else:\n",
    "                if(s1[i-1]==s2[j-1]):\n",
    "                    arr[i][j] = arr[i-1][j-1]\n",
    "                else:\n",
    "                    arr[i][j] = min(arr[i-1][j],arr[i][j-1],arr[i-1][j-1])+1\n",
    "    #for i in arr:\n",
    "        #print (i)\n",
    "    return arr[n1][n2]\n",
    "\n",
    "s1 = \"cart\"\n",
    "s2 = \"march\"\n",
    "print(MED(s1,s2))"
   ]
  },
  {
   "cell_type": "code",
   "execution_count": 37,
   "metadata": {},
   "outputs": [
    {
     "name": "stdout",
     "output_type": "stream",
     "text": [
      "10\n"
     ]
    }
   ],
   "source": [
    "#binommial coefficient using dp\n",
    "\n",
    "def ncr(n,k):\n",
    "    arr = [[0 for i in range(n+1)] for j in range(k+1)]\n",
    "    for i in range(k+1):\n",
    "        for j in range(i,n+1):\n",
    "            if(i==0 or i==j):\n",
    "                arr[i][j] = 1\n",
    "            else:\n",
    "                arr[i][j] = arr[i][j-1]+arr[i-1][j-1]\n",
    "    #for i in arr:\n",
    "        #print(i)\n",
    "    return arr[k][n]\n",
    "\n",
    "print(ncr(5,3))"
   ]
  },
  {
   "cell_type": "code",
   "execution_count": 79,
   "metadata": {},
   "outputs": [
    {
     "name": "stdout",
     "output_type": "stream",
     "text": [
      "15\n"
     ]
    }
   ],
   "source": [
    "#space efficient binommial coefficient using dp\n",
    "\n",
    "def ncrs(n,k):\n",
    "    arr = [1 for i in range(n+1)]\n",
    "    for i in range(1,k+1):\n",
    "        for j in range(i,n+1):\n",
    "            if(i ==j ):\n",
    "                tmp = 1\n",
    "            else:\n",
    "                #tmp2 = arr[j]\n",
    "                #arr[j] = arr[j-1]+tmp\n",
    "                #tmp = tmp2\n",
    "                tmp,arr[j] = arr[j],arr[j-1]+tmp\n",
    "    #print(arr)\n",
    "    return arr[n]\n",
    "\n",
    "print(ncrs(6,2))"
   ]
  },
  {
   "cell_type": "code",
   "execution_count": 80,
   "metadata": {},
   "outputs": [
    {
     "name": "stdout",
     "output_type": "stream",
     "text": [
      "[1, 1, 2, 4, 4, 5, 7]\n",
      "[0, 1, 2, 2, 3, 5, 5]\n",
      "[0, 0, 1, 1, 3, 3, 4]\n",
      "[0, 0, 0, 1, 1, 2, 4]\n",
      "[0, 0, 0, 0, 1, 2, 2]\n",
      "[0, 0, 0, 0, 0, 1, 1]\n",
      "[0, 0, 0, 0, 0, 0, 1]\n",
      "7\n"
     ]
    }
   ],
   "source": [
    "#Longest Palindromic Subsequence\n",
    "#when i==j, L[i][j] = 1\n",
    "#elif character at i and j are same then, L[i][j] = L[i+1][j-1] + 2\n",
    "#else, L[i][j] = max(L[i][j-1],L[i+1][j])\n",
    "\n",
    "def LPS(s):\n",
    "    n = len(s)\n",
    "    arr = [[0 for j in range(n)]for i in range(n)]\n",
    "    for k in range(n):\n",
    "        i = 0\n",
    "        for j in range(k,n):\n",
    "            if(i==j):\n",
    "                arr[i][j] = 1\n",
    "            elif(s[i]==s[j]):\n",
    "                arr[i][j] = arr[i+1][j-1]+2\n",
    "            else:\n",
    "                arr[i][j] = max(arr[i][j-1],arr[i+1][j])\n",
    "            i += 1        \n",
    "    for x in arr:\n",
    "        print(x)\n",
    "    return arr[0][n-1]\n",
    "\n",
    "print(LPS(\"abbabba\"))"
   ]
  },
  {
   "cell_type": "code",
   "execution_count": 7,
   "metadata": {},
   "outputs": [
    {
     "name": "stdout",
     "output_type": "stream",
     "text": [
      "[(5, 24), (15, 28), (25, 26), (27, 40), (39, 60), (50, 90)]\n",
      "[1, 1, 2, 3, 3, 4]\n",
      "4\n"
     ]
    }
   ],
   "source": [
    "#maximum length chain of pairs\n",
    "#input list = [(5,24),(39,60),(15,28),(27,40),(50,90),(25,26)]\n",
    "#output pair list = [(5,24),(25,26),(27,40),(50,90)]\n",
    "#output = 4\n",
    "\n",
    "li = [(5,24),(25,26),(27,40),(39,60),(15,28),(50,90)]\n",
    "\n",
    "def maxLengthPairs(li):\n",
    "    li.sort(key = lambda x:x[0])\n",
    "    print(li)\n",
    "    n = len(li)\n",
    "    arr = [1 for i in range(n)]\n",
    "    for i in range(1,n):\n",
    "        for j in range(i):\n",
    "            if(li[j][1]<li[i][0] and arr[j]+1>arr[i]):\n",
    "                arr[i] = arr[j]+1\n",
    "    print(arr)\n",
    "    return arr[n-1]\n",
    "\n",
    "print(maxLengthPairs(li))\n"
   ]
  },
  {
   "cell_type": "code",
   "execution_count": 8,
   "metadata": {},
   "outputs": [
    {
     "name": "stdout",
     "output_type": "stream",
     "text": [
      "7\n"
     ]
    }
   ],
   "source": [
    "#largest sum contiguous subarray\n",
    "#Kadene's algorithm\n",
    "\n",
    "def maxSubarraySum(arr):\n",
    "    c = 0\n",
    "    m = 0\n",
    "    for i in arr:\n",
    "        c = max(i,c+i)\n",
    "        m = max(m,c)\n",
    "    return m\n",
    "\n",
    "arr = [-2,-3,4,-1,-2,1,5,-3]\n",
    "print(maxSubarraySum(arr))\n"
   ]
  },
  {
   "cell_type": "code",
   "execution_count": 41,
   "metadata": {},
   "outputs": [
    {
     "name": "stdout",
     "output_type": "stream",
     "text": [
      "T  F  F  F  F  F  \n",
      "F  T  T  F  F  F  \n",
      "F  F  T  F  T  F  \n",
      "F  F  F  T  F  T  \n",
      "F  F  F  F  T  F  \n",
      "F  F  F  F  F  T  \n",
      "ETE\n",
      "3\n"
     ]
    }
   ],
   "source": [
    "#Longest Palindromic Substring\n",
    "\n",
    "def LPS(s):\n",
    "    n = len(s)\n",
    "    arr = [[False for j in range(n)]for i in range(n)]\n",
    "    m = 0\n",
    "    l = 0\n",
    "    for i in range(n):\n",
    "        arr[i][i] = True\n",
    "        m = 1\n",
    "    for i in range(n-1):\n",
    "        if(s[i]==s[i+1]):\n",
    "            arr[i][i+1] = True\n",
    "            m = 2\n",
    "            l = i\n",
    "    for k in range(2,n):\n",
    "        i = 0\n",
    "        for j in range(k,n):\n",
    "            if(arr[i+1][j-1] and s[i]==s[j]):\n",
    "                arr[i][j] = True\n",
    "                if(j-i+1>m):\n",
    "                    l = i\n",
    "                    m = j-i+1\n",
    "                #m = max(m,j-i+1)\n",
    "                #k = i\n",
    "            i += 1\n",
    "        \n",
    "    for i in arr:\n",
    "        for j in i:\n",
    "            if(j==True):\n",
    "                print(\"T\", end = \"  \")\n",
    "            else:\n",
    "                print(\"F\", end = \"  \")\n",
    "        print(\"\")\n",
    "    print(s[l:l+m])\n",
    "    return m\n",
    "        \n",
    "s = \"GEETET\"\n",
    "print(LPS(s))"
   ]
  },
  {
   "cell_type": "code",
   "execution_count": null,
   "metadata": {},
   "outputs": [],
   "source": [
    "for _ in range(int(input())):\n",
    "    n = int(input())\n",
    "    li = [int(i) for i in input().split()]\n",
    "    k = -1\n",
    "    for i in range(n-1,0,-1):\n",
    "        if(li[i]>li[i-1]):\n",
    "            k = i-1\n",
    "            break\n",
    "    if(k==-1):\n",
    "        print(k)\n",
    "    \n",
    "    else:\n",
    "        l = -1\n",
    "        for i in range(n-1,k,-1):\n",
    "            if(li[i]>li[k]):\n",
    "                l = i\n",
    "                break\n",
    "        s = \"\"\n",
    "        for i in range(k):\n",
    "            s += str(li[i])\n",
    "        for i in range(l,k,-1):\n",
    "            s += str(li[i])\n",
    "        for i in range(l+1,n):\n",
    "            s += str(li[i])\n",
    "            print(li[i])\n",
    "        s += str(li[k])\n",
    "        print(int(s))"
   ]
  },
  {
   "cell_type": "code",
   "execution_count": null,
   "metadata": {},
   "outputs": [],
   "source": [
    "#Spoj problem - Just Next\n",
    "#link- https://www.spoj.com/problems/JNEXT/\n",
    "\n",
    "for _ in range(int(input())):\n",
    "    n = int(input())\n",
    "    li = [int(i) for i in input().split()]\n",
    "    k = -1\n",
    "    for i in range(n-1,0,-1):\n",
    "        if(li[i]>li[i-1]):\n",
    "            k = i-1\n",
    "            break\n",
    "    if(k==-1):\n",
    "        print(k)\n",
    "    \n",
    "    else:\n",
    "        l = n-1\n",
    "        for i in range(n-1,k,-1):\n",
    "            if(li[i]>li[k]):\n",
    "                l = i\n",
    "                break\n",
    "        li[k],li[l] = li[l],li[k]\n",
    "        s = \"\"\n",
    "        for i in range(k+1):\n",
    "            s += str(li[i])\n",
    "        for i in range(n-1,k,-1):\n",
    "            s += str(li[i])\n",
    "        \n",
    "        print(s)"
   ]
  }
 ],
 "metadata": {
  "kernelspec": {
   "display_name": "Python 3",
   "language": "python",
   "name": "python3"
  },
  "language_info": {
   "codemirror_mode": {
    "name": "ipython",
    "version": 3
   },
   "file_extension": ".py",
   "mimetype": "text/x-python",
   "name": "python",
   "nbconvert_exporter": "python",
   "pygments_lexer": "ipython3",
   "version": "3.7.2"
  }
 },
 "nbformat": 4,
 "nbformat_minor": 4
}
