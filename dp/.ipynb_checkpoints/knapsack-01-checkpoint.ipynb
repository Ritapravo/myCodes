{
 "cells": [
  {
   "cell_type": "code",
   "execution_count": 31,
   "metadata": {},
   "outputs": [
    {
     "name": "stdout",
     "output_type": "stream",
     "text": [
      "50\n",
      "10 20 30\n",
      "60 100 120\n",
      "maximum value =  220\n",
      "Weights taken: 30 20 "
     ]
    }
   ],
   "source": [
    "# 0/1 Knapsack Problem \n",
    "\n",
    "w = int(input())\n",
    "weight = [int(i) for i in input().split()]\n",
    "values = [int(i) for i in input().split()]\n",
    "\n",
    "n = len(values)\n",
    "arr = [[0 for i in range(w+1)] for j in range(n+1)]\n",
    "for i in range(1,n+1):\n",
    "    for j in range(1,w+1):\n",
    "        if(j<weight[i-1]):\n",
    "            arr[i][j] = arr[i-1][j]\n",
    "        else:\n",
    "            arr[i][j] = max(arr[i-1][j],arr[i-1][j-weight[i-1]]+values[i-1])\n",
    "#print(arr)\n",
    "x = arr[n][w]\n",
    "print(\"maximum value = \",x)\n",
    "i = n\n",
    "j = w\n",
    "print(\"Weights taken:\",end = \" \")\n",
    "while(arr[i][j]>0):\n",
    "    if(arr[i][j]==arr[i-1][j]):\n",
    "        i = i-1\n",
    "    else:\n",
    "        print(weight[i-1],end = \" \")\n",
    "        j = j-weight[i-1]\n",
    "        i = i-1\n",
    "        \n",
    "    #print(i,j)\n"
   ]
  }
 ],
 "metadata": {
  "kernelspec": {
   "display_name": "Python 3",
   "language": "python",
   "name": "python3"
  },
  "language_info": {
   "codemirror_mode": {
    "name": "ipython",
    "version": 3
   },
   "file_extension": ".py",
   "mimetype": "text/x-python",
   "name": "python",
   "nbconvert_exporter": "python",
   "pygments_lexer": "ipython3",
   "version": "3.7.2"
  }
 },
 "nbformat": 4,
 "nbformat_minor": 4
}
