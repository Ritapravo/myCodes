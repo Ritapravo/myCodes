{
 "cells": [
  {
   "cell_type": "code",
   "execution_count": 31,
   "metadata": {},
   "outputs": [],
   "source": [
    "def read(num):\n",
    "    num = str(num)\n",
    "    num = num + \"#\"\n",
    "    n = len(num)\n",
    "    li1 = []\n",
    "    li2 = []\n",
    "    c = 1\n",
    "    for i in range(1,n):\n",
    "        if(num[i-1]!=num[i]):\n",
    "            li1.append(num[i-1])\n",
    "            li2.append(str(c))\n",
    "            c = 1\n",
    "        else:\n",
    "            c += 1\n",
    "    ans = \"\"\n",
    "    for i in range(len(li1)):\n",
    "        ans = ans + li2[i]\n",
    "        ans = ans + li1[i]\n",
    "    return int(ans)"
   ]
  },
  {
   "cell_type": "code",
   "execution_count": null,
   "metadata": {},
   "outputs": [],
   "source": [
    "def cas(n):\n",
    "    if(n==1):\n",
    "        return 1\n",
    "    else:\n",
    "        return read(cas(n-1))"
   ]
  },
  {
   "cell_type": "code",
   "execution_count": null,
   "metadata": {},
   "outputs": [],
   "source": [
    "cas(2)"
   ]
  },
  {
   "cell_type": "code",
   "execution_count": null,
   "metadata": {},
   "outputs": [],
   "source": []
  }
 ],
 "metadata": {
  "kernelspec": {
   "display_name": "Python 3",
   "language": "python",
   "name": "python3"
  },
  "language_info": {
   "codemirror_mode": {
    "name": "ipython",
    "version": 3
   },
   "file_extension": ".py",
   "mimetype": "text/x-python",
   "name": "python",
   "nbconvert_exporter": "python",
   "pygments_lexer": "ipython3",
   "version": "3.7.2"
  }
 },
 "nbformat": 4,
 "nbformat_minor": 4
}
