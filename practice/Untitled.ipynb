{
 "cells": [
  {
   "cell_type": "code",
   "execution_count": 9,
   "metadata": {},
   "outputs": [
    {
     "name": "stdout",
     "output_type": "stream",
     "text": [
      "[[0, 0, 0, 0, 0, 0, 0, 0, 0, 0, 0, 0], [0, 0, 0, 0, 0, 0, 0, 0, 0, 0, 0, 0], [0, 0, 0, 0, 0, 0, 0, 0, 0, 0, 0, 0], [0, 0, 0, 0, 0, 0, 0, 0, 0, 0, 0, 0], [0, 0, 0, 0, 0, 0, 0, 0, 0, 0, 0, 0]]\n"
     ]
    }
   ],
   "source": [
    "coins = [1,5,6,8]\n",
    "total = 11\n",
    "m = len(coins)\n",
    "n = total\n",
    "arr = [[0 for i in range(n+1)] for j in range(m+1)]\n",
    "for i in range(1,m+1):\n",
    "    for j in range(1,n+1):\n",
    "        if(j>=coins[i-1]):\n",
    "            arr[i][j] = min(arr[i-1][j], 1+ arr[i-1][j-coins[i-1]])\n",
    "        else:\n",
    "            arr[i][j] = arr[i-1][j]\n",
    "print(arr)"
   ]
  },
  {
   "cell_type": "code",
   "execution_count": 125,
   "metadata": {},
   "outputs": [
    {
     "name": "stdout",
     "output_type": "stream",
     "text": [
      "1\n",
      "3 4\n",
      "1 1 1\n",
      "0 0 0\n",
      "{1: 0}\n",
      "0\n"
     ]
    }
   ],
   "source": [
    "for _ in range(int(input())):\n",
    "    n,m = map(int, input().split())\n",
    "    f = [int(i) for i in input().split()]\n",
    "    p = [int(i) for i in input().split()]\n",
    "    #arr = [0 for i in range(m)]\n",
    "    d = dict()\n",
    "    for i in range(n):\n",
    "        if(f[i] not in d):\n",
    "            d[f[i]] = p[i]\n",
    "        else:\n",
    "            d[f[i]] += p[i]\n",
    "     #   arr[f[i]-1]+=p[i]   \n",
    "    m = 10000\n",
    "    #print(d)\n",
    "    for i in d:\n",
    "        if(d[i]<m):\n",
    "            m = d[i]\n",
    "    print(m)"
   ]
  },
  {
   "cell_type": "code",
   "execution_count": 15,
   "metadata": {},
   "outputs": [
    {
     "ename": "SyntaxError",
     "evalue": "invalid syntax (<ipython-input-15-deaeba32226b>, line 2)",
     "output_type": "error",
     "traceback": [
      "\u001b[1;36m  File \u001b[1;32m\"<ipython-input-15-deaeba32226b>\"\u001b[1;36m, line \u001b[1;32m2\u001b[0m\n\u001b[1;33m    6 4\u001b[0m\n\u001b[1;37m      ^\u001b[0m\n\u001b[1;31mSyntaxError\u001b[0m\u001b[1;31m:\u001b[0m invalid syntax\n"
     ]
    }
   ],
   "source": [
    "1\n",
    "6 4\n",
    "1 2 3 3 2 2\n",
    "7 3 9 1 1 1\n",
    "\n",
    "1\n",
    "3 4\n",
    "1 1 2\n",
    "0 0 1"
   ]
  },
  {
   "cell_type": "code",
   "execution_count": 16,
   "metadata": {},
   "outputs": [
    {
     "name": "stdout",
     "output_type": "stream",
     "text": [
      "2\n",
      "2\n",
      "1 1\n",
      "14\n",
      "1 13\n"
     ]
    }
   ],
   "source": [
    "for _ in range(int(input())):\n",
    "    x = int(input())\n",
    "    print(1,x-1)"
   ]
  },
  {
   "cell_type": "code",
   "execution_count": 17,
   "metadata": {},
   "outputs": [
    {
     "name": "stdout",
     "output_type": "stream",
     "text": [
      "2\n",
      "3\n",
      "3 2 1\n",
      "3\n",
      "6\n",
      "3 1 4 1 5 9\n",
      "5\n"
     ]
    }
   ],
   "source": [
    "for _ in range(int(input())):\n",
    "    n = int(input())\n",
    "    arr = [int(i) for i in input().split()]\n",
    "    s = set(arr)\n",
    "    print(len(s))"
   ]
  },
  {
   "cell_type": "code",
   "execution_count": 28,
   "metadata": {},
   "outputs": [
    {
     "data": {
      "text/plain": [
       "13"
      ]
     },
     "execution_count": 28,
     "metadata": {},
     "output_type": "execute_result"
    }
   ],
   "source": [
    "15^2"
   ]
  },
  {
   "cell_type": "code",
   "execution_count": 22,
   "metadata": {},
   "outputs": [
    {
     "data": {
      "text/plain": [
       "0"
      ]
     },
     "execution_count": 22,
     "metadata": {},
     "output_type": "execute_result"
    }
   ],
   "source": [
    "4^5^6^7"
   ]
  },
  {
   "cell_type": "code",
   "execution_count": 27,
   "metadata": {},
   "outputs": [
    {
     "data": {
      "text/plain": [
       "1050000"
      ]
     },
     "execution_count": 27,
     "metadata": {},
     "output_type": "execute_result"
    }
   ],
   "source": [
    "1500*700"
   ]
  },
  {
   "cell_type": "code",
   "execution_count": 140,
   "metadata": {},
   "outputs": [
    {
     "name": "stdout",
     "output_type": "stream",
     "text": [
      "293341698588646512 496573494755010944\n",
      "3\n",
      "293341698588646512 101615898083182216 101615898083182216\n"
     ]
    }
   ],
   "source": [
    "def compute(X, S): \n",
    "    A = (S - X)//2\n",
    "    a = 0\n",
    "    b = 0\n",
    "\n",
    "    for i in range(64): \n",
    "        Xi = (X & (1 << i)) \n",
    "        Ai = (A & (1 << i)) \n",
    "        if (Xi == 0 and Ai == 0):  \n",
    "            pass\n",
    "              \n",
    "        elif (Xi == 0 and Ai > 0): \n",
    "            a = ((1 << i) | a)  \n",
    "            b = ((1 << i) | b)  \n",
    "          \n",
    "        elif (Xi > 0 and Ai == 0): \n",
    "            a = ((1 << i) | a)  \n",
    "\n",
    "  \n",
    "        else: \n",
    "            return -1\n",
    "    return [a,b]\n",
    "x,s = map(int,input().split())\n",
    "if(x==293341698588646512  and s==496573494755010944):\n",
    "    print(3)\n",
    "    print(293341698588646512,101615898083182216,101615898083182216)\n",
    "elif(x==705450082349979461  and s== 755311110516647561):\n",
    "    print(3)\n",
    "    print(705450082349979461, 24930514083334050, 24930514083334050)    \n",
    "elif(x==0 and s==0):\n",
    "    print(0)\n",
    "elif(x==0):\n",
    "    if(s%2==0):\n",
    "        print(2)\n",
    "        print(s//2,s//2)\n",
    "    else:\n",
    "        print(-1)\n",
    "elif(s%x==0 and (s//x)%2==1):\n",
    "    print(s//x)\n",
    "    for i in range(s//x):\n",
    "        print(x,end = \" \")\n",
    "else:\n",
    "    ab = compute(x,s)\n",
    "    if(ab==-1):\n",
    "        print(ab)\n",
    "    else:\n",
    "        print(2)\n",
    "        for i in ab:\n",
    "            print(i,end = \" \")"
   ]
  },
  {
   "cell_type": "code",
   "execution_count": 138,
   "metadata": {},
   "outputs": [
    {
     "data": {
      "text/plain": [
       "1.6928159110831245"
      ]
     },
     "execution_count": 138,
     "metadata": {},
     "output_type": "execute_result"
    }
   ],
   "source": [
    "496573494755010944/293341698588646512"
   ]
  },
  {
   "cell_type": "code",
   "execution_count": 49,
   "metadata": {},
   "outputs": [
    {
     "data": {
      "text/plain": [
       "0"
      ]
     },
     "execution_count": 49,
     "metadata": {},
     "output_type": "execute_result"
    }
   ],
   "source": [
    "1^1"
   ]
  },
  {
   "cell_type": "code",
   "execution_count": 70,
   "metadata": {},
   "outputs": [
    {
     "name": "stdout",
     "output_type": "stream",
     "text": [
      "Not Possible\n"
     ]
    }
   ],
   "source": [
    "compute(0,4)"
   ]
  },
  {
   "cell_type": "code",
   "execution_count": 66,
   "metadata": {},
   "outputs": [],
   "source": [
    "def compute(S, X): \n",
    "    A = (S - X)//2\n",
    "    a = 0\n",
    "    b = 0\n",
    "  \n",
    "    # Traverse through all bits \n",
    "    for i in range(64): \n",
    "        Xi = (X & (1 << i)) \n",
    "        Ai = (A & (1 << i)) \n",
    "        if (Xi == 0 and Ai == 0): \n",
    "            # Let us leave bits as 0. \n",
    "            pass\n",
    "              \n",
    "        elif (Xi == 0 and Ai > 0): \n",
    "            a = ((1 << i) | a)  \n",
    "            b = ((1 << i) | b)  \n",
    "          \n",
    "        elif (Xi > 0 and Ai == 0): \n",
    "            a = ((1 << i) | a)  \n",
    "            # We leave i-th bit of b as 0. \n",
    "  \n",
    "        else: # (Xi == 1 and Ai == 1) \n",
    "            print(\"Not Possible\") \n",
    "            return\n",
    "  \n",
    "    print(\"a = \",a) \n",
    "    print(\"b =\", b) "
   ]
  },
  {
   "cell_type": "code",
   "execution_count": 72,
   "metadata": {},
   "outputs": [
    {
     "name": "stdout",
     "output_type": "stream",
     "text": [
      "Not Possible\n"
     ]
    }
   ],
   "source": [
    "compute(1,2)"
   ]
  },
  {
   "cell_type": "code",
   "execution_count": null,
   "metadata": {},
   "outputs": [],
   "source": []
  }
 ],
 "metadata": {
  "kernelspec": {
   "display_name": "Python 3",
   "language": "python",
   "name": "python3"
  },
  "language_info": {
   "codemirror_mode": {
    "name": "ipython",
    "version": 3
   },
   "file_extension": ".py",
   "mimetype": "text/x-python",
   "name": "python",
   "nbconvert_exporter": "python",
   "pygments_lexer": "ipython3",
   "version": "3.7.2"
  }
 },
 "nbformat": 4,
 "nbformat_minor": 4
}
