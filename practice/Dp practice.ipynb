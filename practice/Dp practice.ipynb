{
 "cells": [
  {
   "cell_type": "code",
   "execution_count": 10,
   "metadata": {},
   "outputs": [
    {
     "name": "stdout",
     "output_type": "stream",
     "text": [
      "5\n",
      "111221\n"
     ]
    }
   ],
   "source": [
    "# question 1\n",
    "def read(num):\n",
    "    num = str(num)\n",
    "    num = num + \"#\"\n",
    "    n = len(num)\n",
    "    li1 = []\n",
    "    li2 = []\n",
    "    c = 1\n",
    "    for i in range(1,n):\n",
    "        if(num[i-1]!=num[i]):\n",
    "            li1.append(num[i-1])\n",
    "            li2.append(str(c))\n",
    "            c = 1\n",
    "        else:\n",
    "            c += 1\n",
    "    ans = \"\"\n",
    "    for i in range(len(li1)):\n",
    "        ans = ans + li2[i]\n",
    "        ans = ans + li1[i]\n",
    "    return int(ans)\n",
    "\n",
    "def cas(n):\n",
    "    if(n==1):\n",
    "        return 1\n",
    "    else:\n",
    "        return read(cas(n-1))\n",
    "    \n",
    "n = int(input())\n",
    "print(cas(n))"
   ]
  },
  {
   "cell_type": "code",
   "execution_count": 15,
   "metadata": {},
   "outputs": [
    {
     "name": "stdout",
     "output_type": "stream",
     "text": [
      "7 3\n",
      "1 3 2 1 1 2\n",
      "6\n"
     ]
    }
   ],
   "source": [
    "n,k = map (int, input().split())\n",
    "nums = [int(i)%k for i in input().split()]\n",
    "#print(nums)\n",
    "d = dict()\n",
    "count = 0\n",
    "for i in nums:\n",
    "    if(i==0):\n",
    "        if i in d:\n",
    "            count += d[i]\n",
    "    else:\n",
    "        if k-i in d:\n",
    "            count += d[k-i]\n",
    "        \n",
    "    if i not in d:\n",
    "        d[i] = 1\n",
    "    else:\n",
    "        d[i]+=1\n",
    "print(count)        "
   ]
  },
  {
   "cell_type": "code",
   "execution_count": 26,
   "metadata": {},
   "outputs": [],
   "source": [
    "def f(n):\n",
    "    s = 0\n",
    "    for i in str(n):\n",
    "        s += int(i)\n",
    "    return s\n",
    "def sieve(n):\n",
    "    primes = [True for i in range(n+1)]\n",
    "    p = 2\n",
    "    while(p*p<=n):\n",
    "        if(primes[p]==True):\n",
    "            for i in range(p*p,n+1,p):\n",
    "                primes[i] = False\n",
    "        p += 1\n",
    "    primes[0],primes[1] = False,False\n",
    "    return primes"
   ]
  },
  {
   "cell_type": "code",
   "execution_count": 38,
   "metadata": {},
   "outputs": [
    {
     "name": "stdout",
     "output_type": "stream",
     "text": [
      "15\n",
      "[(0, 2), (0, 3), (0, 5), (0, 7), (0, 11), (0, 12), (0, 14), (1, 1), (1, 2), (1, 4), (1, 6), (1, 10), (1, 11), (1, 13), (1, 15), (2, 3), (2, 5), (2, 9), (2, 10), (2, 12), (2, 14), (3, 4), (3, 8), (3, 11), (3, 13), (4, 7), (4, 9), (4, 10), (4, 12), (5, 6), (5, 8), (5, 11), (5, 15), (6, 7), (6, 10), (6, 14), (7, 13), (7, 15), (8, 9), (8, 12), (8, 14), (9, 11), (9, 13), (10, 10), (10, 11), (10, 13), (10, 15), (11, 12), (11, 14), (12, 13), (14, 15)]\n",
      "51\n"
     ]
    }
   ],
   "source": [
    "n = int(input())\n",
    "primes = sieve(10*n)\n",
    "arr = set()\n",
    "count = 0\n",
    "for i in range(n+1):\n",
    "    for j in range(n+1):\n",
    "        if(primes[f(i)+f(j)]==True):\n",
    "            arr.add((min(i,j),max(i,j)))\n",
    "            count += 1\n",
    "arr = list(arr)\n",
    "arr.sort()\n",
    "print(arr)\n",
    "print(len(arr))"
   ]
  },
  {
   "cell_type": "code",
   "execution_count": 40,
   "metadata": {},
   "outputs": [
    {
     "name": "stdout",
     "output_type": "stream",
     "text": [
      "2 3 5 7 11 13 17 19 23 29 31 37 41 43 47 "
     ]
    }
   ],
   "source": [
    "for i in range(50):\n",
    "    if(primes[i]):\n",
    "        print(i, end= \" \")"
   ]
  },
  {
   "cell_type": "code",
   "execution_count": 69,
   "metadata": {},
   "outputs": [
    {
     "data": {
      "text/plain": [
       "13"
      ]
     },
     "execution_count": 69,
     "metadata": {},
     "output_type": "execute_result"
    }
   ],
   "source": [
    "def climb(n):\n",
    "    if(n==0):\n",
    "        c.append(1)\n",
    "        return 1\n",
    "    if(n<0):\n",
    "        return 0\n",
    "    return climb(n-1) + climb(n-2)\n",
    "\n",
    "n = 6\n",
    "c = []\n",
    "f = 0 \n",
    "climb(n)\n"
   ]
  },
  {
   "cell_type": "code",
   "execution_count": 3,
   "metadata": {},
   "outputs": [
    {
     "name": "stdout",
     "output_type": "stream",
     "text": [
      "8\n",
      "21\n"
     ]
    }
   ],
   "source": [
    "n = int(input())\n",
    "lookup = [None for i in range(n+1)]\n",
    "def fib(n):\n",
    "    if(lookup[n]==None):\n",
    "        if(n<=1):\n",
    "            lookup[n]=n\n",
    "        else:\n",
    "            lookup[n]=fib(n-1)+fib(n-2)\n",
    "    return lookup[n]\n",
    "print(fib(n))\n",
    "    "
   ]
  },
  {
   "cell_type": "code",
   "execution_count": 10,
   "metadata": {},
   "outputs": [
    {
     "name": "stdout",
     "output_type": "stream",
     "text": [
      "[1, 2, 1, 3, 2, 4, 4, 5]\n",
      "5\n"
     ]
    }
   ],
   "source": [
    "#Longest increasing subsequence\n",
    "\n",
    "def LIS(nums):\n",
    "    n = len(nums)\n",
    "    arr = [1 for i in range(n)]\n",
    "    for i in range(n):\n",
    "        for j in range(0,i):\n",
    "            if(nums[j]<nums[i] and arr[j]+1>arr[i]):\n",
    "                arr[i] = arr[j]+1\n",
    "    #print(arr)\n",
    "    return arr[n-1]\n",
    "\n",
    "li = [10, 22, 9, 33, 21, 50, 41, 60]\n",
    "print(LIS(li))"
   ]
  },
  {
   "cell_type": "code",
   "execution_count": 15,
   "metadata": {},
   "outputs": [
    {
     "name": "stdout",
     "output_type": "stream",
     "text": [
      "4\n"
     ]
    }
   ],
   "source": [
    "#Longest Common Subsequence\n",
    "\n",
    "def LCS(s1,s2):\n",
    "    n1 = len(s1)\n",
    "    n2 = len(s2)\n",
    "    arr = [[0 for j in range(n2+1)]for i in range(n1+1)]\n",
    "    for i in range(1,n1+1):\n",
    "        for j in range(1,n2+1):\n",
    "            if(s1[i-1]==s2[j-1]):\n",
    "                arr[i][j] = arr[i-1][j-1]+1\n",
    "            else:\n",
    "                arr[i][j] = max(arr[i-1][j],arr[i][j-1])\n",
    "    #print(arr)\n",
    "    return arr[n1][n2]\n",
    "s1 = \"abcdef\"\n",
    "s2 = \"abdcfe\"\n",
    "print(LCS(s1,s2))"
   ]
  },
  {
   "cell_type": "code",
   "execution_count": 22,
   "metadata": {},
   "outputs": [
    {
     "name": "stdout",
     "output_type": "stream",
     "text": [
      "3\n"
     ]
    }
   ],
   "source": [
    "#minimum edit distance\n",
    "#to convert s1 to s2\n",
    "\n",
    "def MED(s1,s2):\n",
    "    n1 = len(s1)\n",
    "    n2 = len(s2)\n",
    "    arr = [[0 for j in range(n2+1)] for i in range(n1+1)]\n",
    "    for i in range(n1+1):\n",
    "        for j in range(n2+1):\n",
    "            if(i==0):\n",
    "                arr[i][j] = j\n",
    "            elif(j==0):\n",
    "                arr[i][j] = i\n",
    "            else:\n",
    "                if(s1[i-1]==s2[j-1]):\n",
    "                    arr[i][j] = arr[i-1][j-1]\n",
    "                else:\n",
    "                    arr[i][j] = min(arr[i-1][j],arr[i][j-1],arr[i-1][j-1])+1\n",
    "    #for i in arr:\n",
    "        #print (i)\n",
    "    return arr[n1][n2]\n",
    "\n",
    "s1 = \"cart\"\n",
    "s2 = \"march\"\n",
    "print(MED(s1,s2))"
   ]
  },
  {
   "cell_type": "code",
   "execution_count": 37,
   "metadata": {},
   "outputs": [
    {
     "name": "stdout",
     "output_type": "stream",
     "text": [
      "10\n"
     ]
    }
   ],
   "source": [
    "#binommial coefficient using dp\n",
    "\n",
    "def ncr(n,k):\n",
    "    arr = [[0 for i in range(n+1)] for j in range(k+1)]\n",
    "    for i in range(k+1):\n",
    "        for j in range(i,n+1):\n",
    "            if(i==0 or i==j):\n",
    "                arr[i][j] = 1\n",
    "            else:\n",
    "                arr[i][j] = arr[i][j-1]+arr[i-1][j-1]\n",
    "    #for i in arr:\n",
    "        #print(i)\n",
    "    return arr[k][n]\n",
    "\n",
    "print(ncr(5,3))"
   ]
  },
  {
   "cell_type": "code",
   "execution_count": 79,
   "metadata": {},
   "outputs": [
    {
     "name": "stdout",
     "output_type": "stream",
     "text": [
      "15\n"
     ]
    }
   ],
   "source": [
    "#space efficient binommial coefficient using dp\n",
    "\n",
    "def ncrs(n,k):\n",
    "    arr = [1 for i in range(n+1)]\n",
    "    for i in range(1,k+1):\n",
    "        for j in range(i,n+1):\n",
    "            if(i ==j ):\n",
    "                tmp = 1\n",
    "            else:\n",
    "                #tmp2 = arr[j]\n",
    "                #arr[j] = arr[j-1]+tmp\n",
    "                #tmp = tmp2\n",
    "                tmp,arr[j] = arr[j],arr[j-1]+tmp\n",
    "    #print(arr)\n",
    "    return arr[n]\n",
    "\n",
    "print(ncrs(6,2))"
   ]
  },
  {
   "cell_type": "code",
   "execution_count": 80,
   "metadata": {},
   "outputs": [
    {
     "name": "stdout",
     "output_type": "stream",
     "text": [
      "[1, 1, 2, 4, 4, 5, 7]\n",
      "[0, 1, 2, 2, 3, 5, 5]\n",
      "[0, 0, 1, 1, 3, 3, 4]\n",
      "[0, 0, 0, 1, 1, 2, 4]\n",
      "[0, 0, 0, 0, 1, 2, 2]\n",
      "[0, 0, 0, 0, 0, 1, 1]\n",
      "[0, 0, 0, 0, 0, 0, 1]\n",
      "7\n"
     ]
    }
   ],
   "source": [
    "#Longest Palindromic Subsequence\n",
    "#when i==j, L[i][j] = 1\n",
    "#elif character at i and j are same then, L[i][j] = L[i+1][j-1] + 2\n",
    "#else, L[i][j] = max(L[i][j-1],L[i+1][j])\n",
    "\n",
    "def LPS(s):\n",
    "    n = len(s)\n",
    "    arr = [[0 for j in range(n)]for i in range(n)]\n",
    "    for k in range(n):\n",
    "        i = 0\n",
    "        for j in range(k,n):\n",
    "            if(i==j):\n",
    "                arr[i][j] = 1\n",
    "            elif(s[i]==s[j]):\n",
    "                arr[i][j] = arr[i+1][j-1]+2\n",
    "            else:\n",
    "                arr[i][j] = max(arr[i][j-1],arr[i+1][j])\n",
    "            i += 1        \n",
    "    for x in arr:\n",
    "        print(x)\n",
    "    return arr[0][n-1]\n",
    "\n",
    "print(LPS(\"abbabba\"))"
   ]
  },
  {
   "cell_type": "code",
   "execution_count": null,
   "metadata": {},
   "outputs": [],
   "source": []
  }
 ],
 "metadata": {
  "kernelspec": {
   "display_name": "Python 3",
   "language": "python",
   "name": "python3"
  },
  "language_info": {
   "codemirror_mode": {
    "name": "ipython",
    "version": 3
   },
   "file_extension": ".py",
   "mimetype": "text/x-python",
   "name": "python",
   "nbconvert_exporter": "python",
   "pygments_lexer": "ipython3",
   "version": "3.7.2"
  }
 },
 "nbformat": 4,
 "nbformat_minor": 4
}
